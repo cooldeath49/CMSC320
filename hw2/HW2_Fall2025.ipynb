{
  "cells": [
    {
      "cell_type": "markdown",
      "metadata": {
        "id": "vKLgKS1btvRB"
      },
      "source": [
        "# **HOMEWORK 2: BRAIN CONDITIONING STATS** 📊\n",
        "## **DUE: *Oct 02, 2025 @ 11:59 PM***\n",
        "## **24-HR LATE DUE DATE WITH A 15% PENALTY: *Oct 3, 2025 @ 11:59 PM***\n"
      ]
    },
    {
      "cell_type": "markdown",
      "metadata": {
        "id": "uQmzLo3dt1Hm"
      },
      "source": [
        "**Objective:**  \n",
        "\n",
        "The aim of this assignment is to deepen students' understanding of statistics and hypothesis testing using Python. By engaging with some theortical questions as well as practical exercises, students will apply statistical methods and perform hypothesis tests, using Python to code and execute these techniques. This approach will help solidify their grasp of statistical principles and their application in Python, bridging theoretical knowledge with practical skills.\n",
        "\n",
        "Overview:\n",
        "\n",
        "\n",
        "*   This assignment is worth 120 points.\n",
        "*   There are 3 mandatory parts to complete in this section (DON'T REMOVE ANY PART OF THE QUESTIONS).\n",
        "*   Make a local copy, read all of the instructions carefully, and complete all tasks.\n",
        "\n",
        "\n",
        "Submission:\n",
        "\n",
        "*   Submit your completed notebook (.ipynb) file and PDF to the \"HW2 - Brain Conditioning Stats\" section in Gradescope.\n",
        "\n",
        "\n",
        "\n",
        "\n",
        "\n",
        "\n",
        "\n",
        "### **Reminder: Please make sure your code runs before submitting your work. Code sections that do not run will receive 0 credits, no partials will be given. This is VERY important in real project development.**\n",
        "### **DO NOT REMOVE ANY PART OF ANY OF THE QUESTIONS OR YOU LOSE CREDIT**\n",
        "### *No Hardcoding either*  😋📉\n"
      ]
    },
    {
      "cell_type": "markdown",
      "metadata": {
        "id": "QhnhliH6Fdga"
      },
      "source": [
        "# **Part 1: Statistics Problem Solving**"
      ]
    },
    {
      "cell_type": "markdown",
      "metadata": {
        "id": "hwJSnRGwG2p7"
      },
      "source": [
        "##Q1) (10 POINTS) Bayes Theorem\n"
      ]
    },
    {
      "cell_type": "markdown",
      "metadata": {
        "id": "sDMy_c7bGSFq"
      },
      "source": [
        "Suppose some hacker found a dataset on uselessdatasets.com containing information about three different types of users on an online platform: \"bloggers\", \"shoppers\", and \"reviewers\". The data has 13,000 users. There are 5,500 bloggers, 7,000 shoppers, and 6,500 reviewers. The users could be in multiple categories. 2,200 of the bloggers are shoppers, 1,800 of the bloggers are reviewers, and 3,000 shoppers are also reviewers.\n",
        "\n",
        "Answer the following questions in the designated boxes:"
      ]
    },
    {
      "cell_type": "markdown",
      "metadata": {
        "id": "tpJaCCIWHb-q"
      },
      "source": [
        "1. (3 POINTS) If $X$ is a random variable that represents the users that were cross listed into all 3 categories, what is the value of $X$? (Hint: think of a Venn Diagram.)\n",
        "\n",
        "> X = 1000\n",
        "\n",
        "\n",
        "\n"
      ]
    },
    {
      "cell_type": "markdown",
      "metadata": {
        "id": "iSI0rgMFHeqV"
      },
      "source": [
        "2. (3 POINTS) Calculate the probability that a randomly selected shopper is also a blogger. Round to the nearest hundredth. (Hint: Use Bayes Theorem)\n",
        "\n",
        "> 0.31\n",
        "\n",
        "\n"
      ]
    },
    {
      "cell_type": "markdown",
      "metadata": {
        "id": "EdwmsNa_Hexi"
      },
      "source": [
        "3. (4 POINTS) Calculate the probability that a random user is in exactly two categories but not all three. Round to the nearest hundredth.\n",
        "\n",
        "> 0.31\n"
      ]
    },
    {
      "cell_type": "markdown",
      "metadata": {
        "id": "tY38nVLZIL0O"
      },
      "source": [
        "##Q2) (6 POINTS) Expected Values\n"
      ]
    },
    {
      "cell_type": "markdown",
      "metadata": {
        "id": "S8XTaX1Lcg1T"
      },
      "source": [
        "Let $T$ be the set of all sequences of two rolls of a dice. Let $S$ be the set of all sequences of three rolls of a dice. Let $X_n$ be the sum of the number of dots on $n$ dice rolls.\n",
        "\n",
        "Answer the following questions in the designated boxes:\n"
      ]
    },
    {
      "cell_type": "markdown",
      "metadata": {
        "id": "MJGNtK5eck07"
      },
      "source": [
        "1. (3 POINTS) What is $\\mathbb{E}[X_2]$?\n",
        "\n",
        "> 7\n",
        "\n"
      ]
    },
    {
      "cell_type": "markdown",
      "metadata": {
        "id": "P2GzKvNAcuKD"
      },
      "source": [
        "2. (3 POINTS) What is $\\mathbb{E}[X_3]$?\n",
        "\n",
        "> 10.5\n"
      ]
    },
    {
      "cell_type": "markdown",
      "metadata": {
        "id": "_lrY31ZOc6cV"
      },
      "source": [
        "##Q3) (6 POINTS) Probability distribution"
      ]
    },
    {
      "cell_type": "markdown",
      "metadata": {
        "id": "5i8SGbTPdAB9"
      },
      "source": [
        "Let  $X$  be a continuous random variable that follows a normal distribution with mean  $\\mu = 10$  and standard deviation  $\\sigma = 2$.\n",
        "\n",
        "Answer the following questions in the designated boxes:"
      ]
    },
    {
      "cell_type": "markdown",
      "metadata": {
        "id": "iBWOOR8RdMRQ"
      },
      "source": [
        "1. (3 POINTS) What is the probability that $X$ takes a value between 6 and 12?\n",
        "Hints: You may have to utilize the standard normal table: https://math.arizona.edu/~jwatkins/normal-table.pdf\n",
        "\n",
        "\n",
        "\n",
        "\n",
        "> **How to read the \"Standard Normal Cumulative Probability Table\" table:**\n",
        "\n",
        "\n",
        "*   Rows and Columns: The rows correspond to the first digit and first decimal place of z. The columns correspond to the second decimal place of z.\n",
        "*   Check out: https://byjus.com/maths/z-score-table/\n",
        "\n",
        "\n",
        "\n",
        "> 0.81\n",
        "\n",
        "\n",
        "\n",
        "\n"
      ]
    },
    {
      "cell_type": "markdown",
      "metadata": {
        "id": "uk5gSI7Yhbgi"
      },
      "source": [
        "2. (3 POINTS) What is the probability that $X$ takes a value greater than 15?\n",
        "\n",
        "> 0.01\n"
      ]
    },
    {
      "cell_type": "markdown",
      "metadata": {
        "id": "qd62j-z1FlKj"
      },
      "source": [
        "# **Part 2: Python Warmups**"
      ]
    },
    {
      "cell_type": "markdown",
      "metadata": {
        "id": "LtrQ-Vrdczic"
      },
      "source": [
        "##Q1) (10 POINTS) Bernoulli Trials\n",
        "\n",
        "Consider a sequence of $n$ Bernoulli trials with success probability $p$ per trial. A string of consecutive successes is known as a *streak*.\n",
        "\n",
        "> **Task to do:** Write a function that returns a `collections.Counter` dictionary object that maps the length of a streak $k$ to the number of times it is observed in an input sequence `xs`. For example, if `xs = [0, 1, 0, 1, 1, 0, 1, 1, 1, 0, 1, 1, 1, 0, 0, 1]`, the output would be `Counter({1: 2, 2: 1, 3: 2})`. We have imported `Counter` from the Python `collections` library for you in the code block below. The order of the keys in the Counter does not matter, unsorted is fine.\n"
      ]
    },
    {
      "cell_type": "code",
      "execution_count": 61,
      "metadata": {
        "id": "EjCkESEmc9Cz"
      },
      "outputs": [],
      "source": [
        "from collections import Counter\n",
        "\n",
        "def count_streaks(xs):\n",
        "    streak_active = 0\n",
        "    ys = []\n",
        "    for num in xs:\n",
        "        if num == 1:\n",
        "            streak_active += 1\n",
        "        elif streak_active != 0:\n",
        "            ys.append(streak_active)\n",
        "            streak_active = 0\n",
        "\n",
        "    if streak_active != 0:\n",
        "        ys.append(streak_active)\n",
        "\n",
        "    return Counter(ys)"
      ]
    },
    {
      "cell_type": "code",
      "execution_count": 62,
      "metadata": {
        "colab": {
          "base_uri": "https://localhost:8080/"
        },
        "id": "J2w_2uB7dQin",
        "outputId": "8183330c-7e4b-42e4-cb28-323f54220949"
      },
      "outputs": [
        {
          "name": "stdout",
          "output_type": "stream",
          "text": [
            "Counter({1: 2, 3: 2, 2: 1})\n"
          ]
        },
        {
          "data": {
            "text/plain": [
              "Counter({1: 125036,\n",
              "         2: 62589,\n",
              "         3: 31100,\n",
              "         4: 15859,\n",
              "         5: 7699,\n",
              "         6: 3893,\n",
              "         7: 1921,\n",
              "         8: 946,\n",
              "         9: 470,\n",
              "         10: 245,\n",
              "         11: 126,\n",
              "         12: 45,\n",
              "         13: 29,\n",
              "         14: 11,\n",
              "         15: 9,\n",
              "         17: 6,\n",
              "         16: 2,\n",
              "         18: 1})"
            ]
          },
          "metadata": {},
          "output_type": "display_data"
        }
      ],
      "source": [
        "# Use this cell to test your answer. MAKE SURE YOUR RESULTS ARE SHOWN BELOW AFTER RUNNING THIS BOX\n",
        "import numpy as np\n",
        "print(count_streaks([0, 1, 0, 1, 1, 0, 1, 1, 1, 0, 1, 1, 1, 0, 0, 1]))\n",
        "np.random.seed(0)\n",
        "display(count_streaks(np.random.randint(0,2,1000000)))"
      ]
    },
    {
      "cell_type": "markdown",
      "metadata": {
        "id": "soG82SCihwDT"
      },
      "source": [
        "##Q2) (10 POINTS) Distribution and Visualization\n",
        "\n",
        "The goal of solving this problem is to become familiar with using built-in Python libraries to create various distributions. Plotting serves as an initial step toward data visualization."
      ]
    },
    {
      "cell_type": "markdown",
      "metadata": {
        "id": "Yh5maPG3iKSZ"
      },
      "source": [
        "1. (3 POINTS) Create a normally distributed random variable with mean $\\mu = 0$, standard deviation $\\sigma = 5$ and sample size $n=1000$. Plot the histogram. Add labels and titles and other details as desired to make your plot understandable. You must use the packages `numpy` and `matplotlib`."
      ]
    },
    {
      "cell_type": "code",
      "execution_count": 63,
      "metadata": {
        "id": "GGE_YQ2eiJPh"
      },
      "outputs": [
        {
          "data": {
            "image/png": "[encoded data removed]",
            "text/plain": [
              "<Figure size 640x480 with 1 Axes>"
            ]
          },
          "metadata": {},
          "output_type": "display_data"
        }
      ],
      "source": [
        "import numpy as np\n",
        "import matplotlib.pyplot as plt\n",
        "\n",
        "# Parameters\n",
        "mu = 0      # Mean\n",
        "sigma = 5   # Standard deviation\n",
        "size = 1000 # Number of samples\n",
        "\n",
        "# Generate random samples\n",
        "samples = np.random.normal(0, 5, 1000)\n",
        "\n",
        "# Plot the histogram\n",
        "plt.hist(samples)\n",
        "\n",
        "# Labels and title\n",
        "plt.title(\"Normal Distribution Variable\")\n",
        "plt.xlabel(\"Deviation\")\n",
        "plt.ylabel(\"Value\")\n",
        "\n",
        "\n",
        "# Show plot\n",
        "plt.show()\n"
      ]
    },
    {
      "cell_type": "markdown",
      "metadata": {
        "id": "9WZvmUTZmx11"
      },
      "source": [
        "2. (7 POINTS) We are exploring the Central Limit Theorem (CLT) using a Poisson distribution. Suppose you have a population that follows a Poisson distribution with a rate parameter (or mean)  $\\lambda = 3$ . You will draw multiple samples from this population and calculate the mean of each sample.\n",
        "\n",
        "Write a Python function that simulates this process. The input of the function should be the sample size, the number of samples, and lambda. The function should:\n",
        "1. Generate a population with a Poisson distribution (check: https://numpy.org/doc/stable/reference/random/generated/numpy.random.poisson.html).\n",
        "2. Draw multiple samples and calculate the mean of each sample.\n",
        "3. Return these means as an iterable.\n",
        "\n",
        "*There will be no partial credit granted for this question. Any hardcoded results will receive a 0.*"
      ]
    },
    {
      "cell_type": "code",
      "execution_count": 64,
      "metadata": {
        "id": "Q7HqSg1AnHy4"
      },
      "outputs": [],
      "source": [
        "import numpy as np\n",
        "\n",
        "def poisson_clt_simulator(sample_size, num_samples, lambda_):\n",
        "    sample_means = []\n",
        "    for _ in range(num_samples):\n",
        "        sample = np.random.poisson(lam=lambda_, size=sample_size)\n",
        "        sample_means.append(np.mean(sample)) # Think carefully what you are appending here, refer to variable name\n",
        "    return sample_means"
      ]
    },
    {
      "cell_type": "markdown",
      "metadata": {
        "id": "hcIu1vJCqUTj"
      },
      "source": [
        "  Now use the function to generate 1,000 sample means with sample size 50. Plot the distribution of these sample means to visualize the Central Limit Theorem. Add labels and titles and other details as desired to make your plot understandable."
      ]
    },
    {
      "cell_type": "code",
      "execution_count": 65,
      "metadata": {
        "id": "jWy2qFXtrfSm"
      },
      "outputs": [
        {
          "data": {
            "image/png": "[encoded data removed]",
            "text/plain": [
              "<Figure size 640x480 with 1 Axes>"
            ]
          },
          "metadata": {},
          "output_type": "display_data"
        }
      ],
      "source": [
        "import matplotlib.pyplot as plt\n",
        "\n",
        "# Parameters\n",
        "sample_size = 50\n",
        "num_samples = 1000\n",
        "lambda_ = 3\n",
        "\n",
        "# Simulate and get sample means\n",
        "sample_means = poisson_clt_simulator(50, 1000, 3)\n",
        "\n",
        "# Plot the distribution of sample means\n",
        "plt.hist(sample_means)\n",
        "\n",
        "# Add labels and title\n",
        "plt.xlabel('Sample Mean')\n",
        "plt.ylabel('Density')\n",
        "plt.title('Distribution of Sample Means (CLT Visualization for Poisson)')\n",
        "\n",
        "# Show plot\n",
        "plt.show()"
      ]
    },
    {
      "cell_type": "markdown",
      "metadata": {
        "id": "-vIf9sj-rAuk"
      },
      "source": [
        "##Q3) (18 POINTS) More on Distributions\n",
        "\n"
      ]
    },
    {
      "cell_type": "markdown",
      "metadata": {
        "id": "GbpadK721M9L"
      },
      "source": [
        "You can't get around with distributions while data sciencing. Let's explore how distributions are related to each other."
      ]
    },
    {
      "cell_type": "markdown",
      "metadata": {
        "id": "WSNFwHvQ111k"
      },
      "source": [
        "**1. (6 POINTS)** Since we have successfully demonstrated how CLT works, lets see what we can do with it.\n",
        "\n",
        "*Check out https://numpy.org/doc/stable/reference/random/generated/numpy.random.binomial.html for how to create independent binomial distributions*\n"
      ]
    },
    {
      "cell_type": "markdown",
      "metadata": {
        "id": "l41MNSr63cZG"
      },
      "source": [
        "\n",
        "**TASK:** Show that a Binomial$( n, p )$ distribution approximates a Normal distribution when n is LARGE (due to CLT).\n",
        "Complete the following code according to comments."
      ]
    },
    {
      "cell_type": "code",
      "execution_count": 66,
      "metadata": {
        "id": "6e--jGg14BLg"
      },
      "outputs": [
        {
          "data": {
            "image/png": "[encoded data removed]",
            "text/plain": [
              "<Figure size 640x480 with 1 Axes>"
            ]
          },
          "metadata": {},
          "output_type": "display_data"
        }
      ],
      "source": [
        "import numpy as np\n",
        "import matplotlib.pyplot as plt\n",
        "\n",
        "size = 10000\n",
        "n, p = 50, 0.5  # Large n for normal approximation\n",
        "binomial_samples = np.random.default_rng().binomial(n,p, size=size)\n",
        "normal_samples = np.random.default_rng().normal(loc=n*p, scale=np.sqrt(n*p*(1-p)), size=size) # Don't worry about this line unless you are interested\n",
        "\n",
        "plt.hist(binomial_samples, bins=50, density=True, alpha=0.6, label=\"Binomial(50,0.5)\")\n",
        "plt.hist(normal_samples, bins=50, density=True, alpha=0.6, label=\"Normal Approximation\")\n",
        "plt.legend()\n",
        "plt.title(\"Binomial vs. Normal Approximation\")\n",
        "plt.xlabel(\"Value\")\n",
        "plt.ylabel(\"Density\")\n",
        "plt.show()"
      ]
    },
    {
      "cell_type": "markdown",
      "metadata": {
        "id": "ZrcwdGRf5Ug0"
      },
      "source": [
        "**2. (6 POINTS)** Now with Poisson\n",
        "\n",
        "*Check out https://numpy.org/doc/stable/reference/random/generated/numpy.random.poisson.html for how to create independent poisson distributions*"
      ]
    },
    {
      "cell_type": "markdown",
      "metadata": {
        "id": "Dso81KYy5zt9"
      },
      "source": [
        "**TASK:** Show that when n is large and p is small, a Binomial$( n, p )$ distribution approximates a Poisson distribution with  $\\lambda = np$.\n",
        "Complete the following code according to comments."
      ]
    },
    {
      "cell_type": "code",
      "execution_count": 67,
      "metadata": {
        "id": "kA4nORaM6QhT"
      },
      "outputs": [
        {
          "data": {
            "image/png": "[encoded data removed]",
            "text/plain": [
              "<Figure size 640x480 with 1 Axes>"
            ]
          },
          "metadata": {},
          "output_type": "display_data"
        }
      ],
      "source": [
        "size = 10000\n",
        "n, p = 100, 0.05  # np = 5, small p\n",
        "binomial_samples = np.random.default_rng().binomial(n, p, size=size)\n",
        "poisson_samples = np.random.default_rng().poisson(lam=n*p, size=size)\n",
        "\n",
        "plt.hist(binomial_samples, bins=20, density=True, alpha=0.6, label=\"Binomial(100, 0.05)\")\n",
        "plt.hist(poisson_samples, bins=20, density=True, alpha=0.6, label=\"Poisson(λ=5)\")\n",
        "plt.legend()\n",
        "plt.title(\"Poisson Approximation to Binomial\")\n",
        "plt.xlabel(\"Value\")\n",
        "plt.ylabel(\"Density\")\n",
        "plt.show()"
      ]
    },
    {
      "cell_type": "markdown",
      "metadata": {
        "id": "J6bGAi_f7oXX"
      },
      "source": [
        "**3. (6 POINTS)** Poisson and Exponential\n"
      ]
    },
    {
      "cell_type": "markdown",
      "metadata": {
        "id": "1i5TaSYL7zDv"
      },
      "source": [
        "We know that Poisson counts the number of arrivals, while Exponential models the time between them.\n",
        "\n",
        "**TASK:** Plot a Poisson distribution and an Exponential distribution. You do not have to describe and justify your findings.\n",
        "\n",
        "*Check out https://numpy.org/doc/stable/reference/random/generated/numpy.random.exponential.html *\n",
        "\n",
        "\n",
        "\n"
      ]
    },
    {
      "cell_type": "markdown",
      "metadata": {
        "id": "H58TflBzD3Sd"
      },
      "source": [
        "> **NOTES: **If you dont know about Exponensial Distribution, check out:\n",
        "\n",
        "\n",
        "*   https://www.probabilitycourse.com/chapter4/4_2_2_exponential.php\n",
        "*   https://www.ncl.ac.uk/webtemplate/ask-assets/external/maths-resources/business/probability/exponential-distribution.html\n",
        "\n",
        "\n",
        "\n",
        "\n",
        "\n"
      ]
    },
    {
      "cell_type": "markdown",
      "metadata": {
        "id": "FRdCRFyJD3nC"
      },
      "source": [
        "Complete the following code according to comments."
      ]
    },
    {
      "cell_type": "code",
      "execution_count": 68,
      "metadata": {
        "id": "CxtOzsiJ8H-b"
      },
      "outputs": [
        {
          "data": {
            "image/png": "[encoded data removed]",
            "text/plain": [
              "<Figure size 640x480 with 1 Axes>"
            ]
          },
          "metadata": {},
          "output_type": "display_data"
        }
      ],
      "source": [
        "size = 10000\n",
        "lambda_exp = 3  # rate for Poisson\n",
        "\n",
        "poisson_time_intervals = np.random.poisson(lam=lambda_exp, size=size) # The variable name might be tricky, but think carefully exactly what Poisson represents\n",
        "exponential_samples = np.random.exponential(1/lambda_exp, size=size) # What is the scale of exponential, and how is it related to lambda?\n",
        "\n",
        "plt.hist(exponential_samples, bins=50, density=True, alpha=0.6, label=\"Exponential\")\n",
        "plt.legend()\n",
        "plt.title(\"Exponential Distribution as Interarrival Times\")\n",
        "plt.xlabel(\"Value\")\n",
        "plt.ylabel(\"Density\")\n",
        "plt.show()"
      ]
    },
    {
      "cell_type": "markdown",
      "metadata": {
        "id": "E8O0YGnV4Cbp"
      },
      "source": [
        "# **Part 3: Hypothesis Testing**"
      ]
    },
    {
      "cell_type": "markdown",
      "metadata": {
        "id": "lr1gnMPH4K95"
      },
      "source": [
        "##Q1) (14 POINTS) Hypothesis Tests and P_value"
      ]
    },
    {
      "cell_type": "markdown",
      "metadata": {
        "id": "fp9tnOacNuMX"
      },
      "source": [
        "**TASK:** For the next 5 problems, please describe when you would use each hypothesis test. Answer the questions in the designated boxes:"
      ]
    },
    {
      "cell_type": "markdown",
      "metadata": {
        "id": "gMYJ8tll4cTM"
      },
      "source": [
        "\n",
        "\n",
        "*   Chi-Squared Test\n",
        "*   Z test\n",
        "*   T test\n",
        "*   Mann-Whitney U Test\n",
        "*   Anova\n",
        "\n",
        "\n"
      ]
    },
    {
      "cell_type": "markdown",
      "metadata": {
        "id": "Pkn-uG4cETC9"
      },
      "source": [
        "1.1  (2 POINTS) Chi-Squared Test\n",
        "\n",
        "> This test determines if observed frequencies differ significantly from expected frequencies in a table.\n"
      ]
    },
    {
      "cell_type": "markdown",
      "metadata": {
        "id": "Lxfrp1xuEYzi"
      },
      "source": [
        "1.2  (2 POINTS) Z-Test\n",
        "\n",
        "\n",
        "> Z test is used to find the difference between a sample and population mean. Used when the sample data is normally distributed or is large enough for the CLT to apply, and the standard dev. of the population is known.\n"
      ]
    },
    {
      "cell_type": "markdown",
      "metadata": {
        "id": "NbsWX4fxEZBg"
      },
      "source": [
        "1.3  (2 POINTS) T-Test\n",
        "\n",
        "\n",
        "> T test is used when the std. dev of the population is unknown and the sample size is small"
      ]
    },
    {
      "cell_type": "markdown",
      "metadata": {
        "id": "YegV9lSFEZO6"
      },
      "source": [
        "1.4  (2 POINTS) Man-Whitney U Test\n",
        "\n",
        "\n",
        "> This test is used when the data is ordinal, non-normal, or as an alternative to an independent T-test.\n"
      ]
    },
    {
      "cell_type": "markdown",
      "metadata": {
        "id": "mpPZpmtMEZfS"
      },
      "source": [
        "1.5  (2 POINTS) ANOVA Test\n",
        "\n",
        "\n",
        "> ANOVA test determines if there are significant differences between the means of three or more groups\n",
        "\n"
      ]
    },
    {
      "cell_type": "markdown",
      "metadata": {
        "id": "jdYe6uWWKPtd"
      },
      "source": [
        "**1.6 (4 POINTS) :** Explain the statistical interpretation of a p-value. What is a p-value? What does it mean? Be sure to explain beyond just \"rejecting or failing to reject the null hypothesis.\"\n"
      ]
    },
    {
      "cell_type": "markdown",
      "metadata": {
        "id": "9zhdjJyjK1D7"
      },
      "source": [
        "> A calculated value based on tests, the p-value is the probability of getting results as deviant as what is expected, and is compared against the significance level to determine if the null hypothesis is rejected."
      ]
    },
    {
      "cell_type": "markdown",
      "metadata": {
        "id": "va2vA-in5dWy"
      },
      "source": [
        "##Q2)  (2 POINTS) Create a DataFrame and Display"
      ]
    },
    {
      "cell_type": "code",
      "execution_count": 69,
      "metadata": {
        "id": "Ijr5bfGL5_l1"
      },
      "outputs": [],
      "source": [
        "import pandas as pd\n",
        "import matplotlib.pyplot as plt"
      ]
    },
    {
      "cell_type": "markdown",
      "metadata": {
        "id": "vqbjlGP6xFnm"
      },
      "source": [
        "### We are creating a DataFrame `df`. Load `colleges.csv` and display the DataFrame below.\n",
        "This college dataset contains a list of American colleges and their rankings, along with other details such as region, college type, student-to-faculty ratio, etc. In the sections below, you will develop hypotheses, test them, and draw conclusions.  "
      ]
    },
    {
      "cell_type": "code",
      "execution_count": 70,
      "metadata": {
        "id": "gYOPX768xFnm"
      },
      "outputs": [
        {
          "data": {
            "application/vnd.microsoft.datawrangler.viewer.v0+json": {
              "columns": [
                {
                  "name": "index",
                  "rawType": "int64",
                  "type": "integer"
                },
                {
                  "name": "description",
                  "rawType": "object",
                  "type": "string"
                },
                {
                  "name": "rank",
                  "rawType": "int64",
                  "type": "integer"
                },
                {
                  "name": "organizationName",
                  "rawType": "object",
                  "type": "string"
                },
                {
                  "name": "state",
                  "rawType": "object",
                  "type": "string"
                },
                {
                  "name": "studentPopulation",
                  "rawType": "int64",
                  "type": "integer"
                },
                {
                  "name": "campusSetting",
                  "rawType": "object",
                  "type": "string"
                },
                {
                  "name": "medianBaseSalary",
                  "rawType": "float64",
                  "type": "float"
                },
                {
                  "name": "longitude",
                  "rawType": "float64",
                  "type": "float"
                },
                {
                  "name": "latitude",
                  "rawType": "float64",
                  "type": "float"
                },
                {
                  "name": "website",
                  "rawType": "object",
                  "type": "string"
                },
                {
                  "name": "phoneNumber",
                  "rawType": "object",
                  "type": "string"
                },
                {
                  "name": "city",
                  "rawType": "object",
                  "type": "string"
                },
                {
                  "name": "country",
                  "rawType": "object",
                  "type": "string"
                },
                {
                  "name": "state.1",
                  "rawType": "object",
                  "type": "string"
                },
                {
                  "name": "region",
                  "rawType": "object",
                  "type": "string"
                },
                {
                  "name": "yearFounded",
                  "rawType": "float64",
                  "type": "float"
                },
                {
                  "name": "stateCode",
                  "rawType": "object",
                  "type": "string"
                },
                {
                  "name": "collegeType",
                  "rawType": "object",
                  "type": "string"
                },
                {
                  "name": "carnegieClassification",
                  "rawType": "object",
                  "type": "string"
                },
                {
                  "name": "studentFacultyRatio",
                  "rawType": "int64",
                  "type": "integer"
                },
                {
                  "name": "totalStudentPop",
                  "rawType": "int64",
                  "type": "integer"
                },
                {
                  "name": "undergradPop",
                  "rawType": "int64",
                  "type": "integer"
                },
                {
                  "name": "totalGrantAid",
                  "rawType": "float64",
                  "type": "float"
                },
                {
                  "name": "percentOfStudentsFinAid",
                  "rawType": "float64",
                  "type": "float"
                },
                {
                  "name": "percentOfStudentsGrant",
                  "rawType": "float64",
                  "type": "float"
                }
              ],
              "ref": "3fd63367-5568-4049-a1ad-0eba9a04fc6e",
              "rows": [
                [
                  "0",
                  "A leading global research university, MIT attracts some of the most brilliant young minds to its Cambridge, MA, campus every year. MIT is committed to educating students in science, technology, and other areas to best serve the modern world. Last year, researchers at MIT filed 439 patents and 25 companies formed using the school’s intellectual property. Students looking for an escape from frigid New England winters can turn to MIT’s underground labyrinth of mural-lined tunnels that run beneath much of campus. Despite the school’s STEM focus, all students must complete a wide-ranging core curriculum which includes laboratory requirements and a 100-yard swim test. Many of the world’s top minds went to MIT, including Nobel Prize-winning physicist Richard Feynman, renowned architect I.M. Pei (who designed four buildings on MIT’s campus) and Italian Prime Minister Mario Draghi.",
                  "1",
                  "Massachusetts Institute of Technology",
                  "MA",
                  "12195",
                  "Urban",
                  "173700.0",
                  "-71.093539",
                  "42.359006",
                  "http://web.mit.edu",
                  "617-253-1000",
                  "Cambridge",
                  "United States",
                  "Massachusetts",
                  "Northeast",
                  "1861.0",
                  "MA",
                  "Private not-for-profit",
                  "Doctoral Universities: Very High Research Activity",
                  "3",
                  "12195",
                  "4582",
                  "35299332.0",
                  "75.0",
                  "60.0"
                ],
                [
                  "1",
                  "Stanford University sits just outside of Palo Alto, CA. This world class private research university is renowned for its STEM programs, which have produced numerous Nobel Prize, Turing Award and Fields Medal recipients. The institution’s engineering school has housed some of the most accomplished innovations of Silicon Valley. Stanford fields 36 varsity teams and 33 club sports, active Greek life and community service through the university-wide Cardinal Service program. Committed to making their education affordable, families with annual incomes below $75,000 are not expected to pay tuition, room or board at Stanford. Alumni include billionaire venture capitalist Peter Thiel, Instagram cofounder Kevin Systrom, Senator Cory Booker and Sandra Day O’Connor, the first female Supreme Court Justice.",
                  "2",
                  "Stanford University",
                  "CA",
                  "20961",
                  "Suburban",
                  "173500.0",
                  "-122.168924",
                  "37.43137",
                  "http://www.stanford.edu",
                  "650-723-2091",
                  "Stanford",
                  "United States",
                  "California",
                  "West",
                  "1891.0",
                  "CA",
                  "Private not-for-profit",
                  "Doctoral Universities: Very High Research Activity",
                  "4",
                  "20961",
                  "8464",
                  "51328461.0",
                  "70.0",
                  "55.0"
                ],
                [
                  "2",
                  "One of the top public universities in the country, UC Berkeley has a rich tradition of leading technological and social change. Berkeley’s faculty has had a hand in the discovery of Vitamins E and K, the development of the atomic bomb and the creation of the flu vaccine. Since the Free Speech Movement of the 1960s, Berkeley’s students have maintained a strong tradition of involvement in social justice movements, an attitude that pervades the Berkeley spirit to this day: The school is the top producer of Peace Corps members, and 5,300 students participate in off-campus public service programs. They offer a housing program that allows students to be a part of a smaller community with similar interests and identities while living on campus. The university has over 150 departments and eight interdisciplinary research units across five colleges and one school. Berkeley's faculty boasts 4 Pulitzer Prize winners.",
                  "2",
                  "University of California, Berkeley",
                  "CA",
                  "45878",
                  "Urban",
                  "154500.0",
                  "-122.258393",
                  "37.869236",
                  "http://www.berkeley.edu",
                  "(510) 642-6000",
                  "Berkeley",
                  "United States",
                  "California",
                  "West",
                  "1868.0",
                  "CA",
                  "Public",
                  "Doctoral Universities: Very High Research Activity",
                  "19",
                  "45878",
                  "33208",
                  "64495611.0",
                  "63.0",
                  "53.0"
                ],
                [
                  "3",
                  "Princeton is a leading private research university in Princeton, NJ, and the fourth oldest college in the United States. Students are placed into one of six residential colleges and are guaranteed housing for all four years of school.  Students whose families have an annual income below $65,000 are eligible for a grant to cover full tuition, residential college fee, room and board. Princeton meets 100% of demonstrated financial need for domestic and international students. Students at Princeton can choose from over 30 majors and 50 certificates. Popular programs are in the social sciences, STEM and public policy. Princeton shows commitment to service through learning, professions and community connections. Every senior writes a thesis or conducts an independent research project. Princeton alumni are high-achieving: The university has produced 21 Rhodes Scholars over the last decade and 18 total alumni recipients of the Nobel Prize.",
                  "4",
                  "Princeton University",
                  "NJ",
                  "8532",
                  "Urban",
                  "167600.0",
                  "-74.659119",
                  "40.349855",
                  "http://www.princeton.edu",
                  "609-258-3000",
                  "Princeton",
                  "United States",
                  "New Jersey",
                  "Northeast",
                  "1746.0",
                  "NJ",
                  "Private not-for-profit",
                  "Doctoral Universities: Very High Research Activity",
                  "4",
                  "8532",
                  "5516",
                  "44871096.0",
                  "62.0",
                  "61.0"
                ],
                [
                  "4",
                  "Located in upper Manhattan, Columbia University in the City of New York is a private, Ivy league university. The school utilizes its location to provide students with a wealth of resources and learning opportunities. Columbia houses three undergraduate programs: the flagship Columbia College, the college of engineering, and the School of General Studies which admits nontraditional students. Students looking for a broad liberal arts education benefit from Columbia’s core curriculum, which has requirements in literature, writing, art and science. The learning experience remains close with a 7-to-1 student to faculty ratio. Columbia dedicates nearly $1 billion annually into research. There are over 350 student organizations on campus, as well as Greek life. Housing is guaranteed for all four years, and most students take advantage of it. More Nobel Laureates have graduated from or taught at Columbia than any other university in the Ivy League. Columbia alumni include five founding fathers, 34 presidents and prime ministers, and nine Supreme Court justices.",
                  "5",
                  "Columbia University",
                  "NY",
                  "33882",
                  "Urban",
                  "148800.0",
                  "-73.961288",
                  "40.806515",
                  "http://www.columbia.edu",
                  "212-854-1754",
                  "New York",
                  "United States",
                  "New York",
                  "Northeast",
                  "1754.0",
                  "NY",
                  "Private not-for-profit",
                  "Doctoral Universities: Very High Research Activity",
                  "6",
                  "33882",
                  "8689",
                  "44615007.0",
                  "58.0",
                  "54.0"
                ]
              ],
              "shape": {
                "columns": 25,
                "rows": 5
              }
            },
            "text/html": [
              "<div>\n",
              "<style scoped>\n",
              "    .dataframe tbody tr th:only-of-type {\n",
              "        vertical-align: middle;\n",
              "    }\n",
              "\n",
              "    .dataframe tbody tr th {\n",
              "        vertical-align: top;\n",
              "    }\n",
              "\n",
              "    .dataframe thead th {\n",
              "        text-align: right;\n",
              "    }\n",
              "</style>\n",
              "<table border=\"1\" class=\"dataframe\">\n",
              "  <thead>\n",
              "    <tr style=\"text-align: right;\">\n",
              "      <th></th>\n",
              "      <th>description</th>\n",
              "      <th>rank</th>\n",
              "      <th>organizationName</th>\n",
              "      <th>state</th>\n",
              "      <th>studentPopulation</th>\n",
              "      <th>campusSetting</th>\n",
              "      <th>medianBaseSalary</th>\n",
              "      <th>longitude</th>\n",
              "      <th>latitude</th>\n",
              "      <th>website</th>\n",
              "      <th>...</th>\n",
              "      <th>yearFounded</th>\n",
              "      <th>stateCode</th>\n",
              "      <th>collegeType</th>\n",
              "      <th>carnegieClassification</th>\n",
              "      <th>studentFacultyRatio</th>\n",
              "      <th>totalStudentPop</th>\n",
              "      <th>undergradPop</th>\n",
              "      <th>totalGrantAid</th>\n",
              "      <th>percentOfStudentsFinAid</th>\n",
              "      <th>percentOfStudentsGrant</th>\n",
              "    </tr>\n",
              "  </thead>\n",
              "  <tbody>\n",
              "    <tr>\n",
              "      <th>0</th>\n",
              "      <td>A leading global research university, MIT attr...</td>\n",
              "      <td>1</td>\n",
              "      <td>Massachusetts Institute of Technology</td>\n",
              "      <td>MA</td>\n",
              "      <td>12195</td>\n",
              "      <td>Urban</td>\n",
              "      <td>173700.0</td>\n",
              "      <td>-71.093539</td>\n",
              "      <td>42.359006</td>\n",
              "      <td>http://web.mit.edu</td>\n",
              "      <td>...</td>\n",
              "      <td>1861.0</td>\n",
              "      <td>MA</td>\n",
              "      <td>Private not-for-profit</td>\n",
              "      <td>Doctoral Universities: Very High Research Acti...</td>\n",
              "      <td>3</td>\n",
              "      <td>12195</td>\n",
              "      <td>4582</td>\n",
              "      <td>35299332.0</td>\n",
              "      <td>75.0</td>\n",
              "      <td>60.0</td>\n",
              "    </tr>\n",
              "    <tr>\n",
              "      <th>1</th>\n",
              "      <td>Stanford University sits just outside of Palo ...</td>\n",
              "      <td>2</td>\n",
              "      <td>Stanford University</td>\n",
              "      <td>CA</td>\n",
              "      <td>20961</td>\n",
              "      <td>Suburban</td>\n",
              "      <td>173500.0</td>\n",
              "      <td>-122.168924</td>\n",
              "      <td>37.431370</td>\n",
              "      <td>http://www.stanford.edu</td>\n",
              "      <td>...</td>\n",
              "      <td>1891.0</td>\n",
              "      <td>CA</td>\n",
              "      <td>Private not-for-profit</td>\n",
              "      <td>Doctoral Universities: Very High Research Acti...</td>\n",
              "      <td>4</td>\n",
              "      <td>20961</td>\n",
              "      <td>8464</td>\n",
              "      <td>51328461.0</td>\n",
              "      <td>70.0</td>\n",
              "      <td>55.0</td>\n",
              "    </tr>\n",
              "    <tr>\n",
              "      <th>2</th>\n",
              "      <td>One of the top public universities in the coun...</td>\n",
              "      <td>2</td>\n",
              "      <td>University of California, Berkeley</td>\n",
              "      <td>CA</td>\n",
              "      <td>45878</td>\n",
              "      <td>Urban</td>\n",
              "      <td>154500.0</td>\n",
              "      <td>-122.258393</td>\n",
              "      <td>37.869236</td>\n",
              "      <td>http://www.berkeley.edu</td>\n",
              "      <td>...</td>\n",
              "      <td>1868.0</td>\n",
              "      <td>CA</td>\n",
              "      <td>Public</td>\n",
              "      <td>Doctoral Universities: Very High Research Acti...</td>\n",
              "      <td>19</td>\n",
              "      <td>45878</td>\n",
              "      <td>33208</td>\n",
              "      <td>64495611.0</td>\n",
              "      <td>63.0</td>\n",
              "      <td>53.0</td>\n",
              "    </tr>\n",
              "    <tr>\n",
              "      <th>3</th>\n",
              "      <td>Princeton is a leading private research univer...</td>\n",
              "      <td>4</td>\n",
              "      <td>Princeton University</td>\n",
              "      <td>NJ</td>\n",
              "      <td>8532</td>\n",
              "      <td>Urban</td>\n",
              "      <td>167600.0</td>\n",
              "      <td>-74.659119</td>\n",
              "      <td>40.349855</td>\n",
              "      <td>http://www.princeton.edu</td>\n",
              "      <td>...</td>\n",
              "      <td>1746.0</td>\n",
              "      <td>NJ</td>\n",
              "      <td>Private not-for-profit</td>\n",
              "      <td>Doctoral Universities: Very High Research Acti...</td>\n",
              "      <td>4</td>\n",
              "      <td>8532</td>\n",
              "      <td>5516</td>\n",
              "      <td>44871096.0</td>\n",
              "      <td>62.0</td>\n",
              "      <td>61.0</td>\n",
              "    </tr>\n",
              "    <tr>\n",
              "      <th>4</th>\n",
              "      <td>Located in upper Manhattan, Columbia Universit...</td>\n",
              "      <td>5</td>\n",
              "      <td>Columbia University</td>\n",
              "      <td>NY</td>\n",
              "      <td>33882</td>\n",
              "      <td>Urban</td>\n",
              "      <td>148800.0</td>\n",
              "      <td>-73.961288</td>\n",
              "      <td>40.806515</td>\n",
              "      <td>http://www.columbia.edu</td>\n",
              "      <td>...</td>\n",
              "      <td>1754.0</td>\n",
              "      <td>NY</td>\n",
              "      <td>Private not-for-profit</td>\n",
              "      <td>Doctoral Universities: Very High Research Acti...</td>\n",
              "      <td>6</td>\n",
              "      <td>33882</td>\n",
              "      <td>8689</td>\n",
              "      <td>44615007.0</td>\n",
              "      <td>58.0</td>\n",
              "      <td>54.0</td>\n",
              "    </tr>\n",
              "  </tbody>\n",
              "</table>\n",
              "<p>5 rows × 25 columns</p>\n",
              "</div>"
            ],
            "text/plain": [
              "                                         description  rank  \\\n",
              "0  A leading global research university, MIT attr...     1   \n",
              "1  Stanford University sits just outside of Palo ...     2   \n",
              "2  One of the top public universities in the coun...     2   \n",
              "3  Princeton is a leading private research univer...     4   \n",
              "4  Located in upper Manhattan, Columbia Universit...     5   \n",
              "\n",
              "                        organizationName state  studentPopulation  \\\n",
              "0  Massachusetts Institute of Technology    MA              12195   \n",
              "1                    Stanford University    CA              20961   \n",
              "2     University of California, Berkeley    CA              45878   \n",
              "3                   Princeton University    NJ               8532   \n",
              "4                    Columbia University    NY              33882   \n",
              "\n",
              "  campusSetting  medianBaseSalary   longitude   latitude  \\\n",
              "0         Urban          173700.0  -71.093539  42.359006   \n",
              "1      Suburban          173500.0 -122.168924  37.431370   \n",
              "2         Urban          154500.0 -122.258393  37.869236   \n",
              "3         Urban          167600.0  -74.659119  40.349855   \n",
              "4         Urban          148800.0  -73.961288  40.806515   \n",
              "\n",
              "                    website  ... yearFounded stateCode  \\\n",
              "0        http://web.mit.edu  ...      1861.0        MA   \n",
              "1   http://www.stanford.edu  ...      1891.0        CA   \n",
              "2   http://www.berkeley.edu  ...      1868.0        CA   \n",
              "3  http://www.princeton.edu  ...      1746.0        NJ   \n",
              "4   http://www.columbia.edu  ...      1754.0        NY   \n",
              "\n",
              "              collegeType                             carnegieClassification  \\\n",
              "0  Private not-for-profit  Doctoral Universities: Very High Research Acti...   \n",
              "1  Private not-for-profit  Doctoral Universities: Very High Research Acti...   \n",
              "2                  Public  Doctoral Universities: Very High Research Acti...   \n",
              "3  Private not-for-profit  Doctoral Universities: Very High Research Acti...   \n",
              "4  Private not-for-profit  Doctoral Universities: Very High Research Acti...   \n",
              "\n",
              "  studentFacultyRatio  totalStudentPop undergradPop totalGrantAid  \\\n",
              "0                   3            12195         4582    35299332.0   \n",
              "1                   4            20961         8464    51328461.0   \n",
              "2                  19            45878        33208    64495611.0   \n",
              "3                   4             8532         5516    44871096.0   \n",
              "4                   6            33882         8689    44615007.0   \n",
              "\n",
              "  percentOfStudentsFinAid  percentOfStudentsGrant  \n",
              "0                    75.0                    60.0  \n",
              "1                    70.0                    55.0  \n",
              "2                    63.0                    53.0  \n",
              "3                    62.0                    61.0  \n",
              "4                    58.0                    54.0  \n",
              "\n",
              "[5 rows x 25 columns]"
            ]
          },
          "metadata": {},
          "output_type": "display_data"
        }
      ],
      "source": [
        "df = pd.read_csv(\"colleges.csv\")\n",
        "display(df.head())"
      ]
    },
    {
      "cell_type": "markdown",
      "metadata": {
        "id": "sc36rSvHxFnn"
      },
      "source": [
        "**TASK 2.1 (2 POINTS):** Some entries of the dataframe are NaN. remove those entries."
      ]
    },
    {
      "cell_type": "code",
      "execution_count": 71,
      "metadata": {
        "id": "uGDjmtvMxFnn"
      },
      "outputs": [],
      "source": [
        "df.dropna(inplace=True)"
      ]
    },
    {
      "cell_type": "markdown",
      "metadata": {
        "id": "gcqr3fjkxFnn"
      },
      "source": [
        "#Q3)  (8 POINTS) Hypothesis Testing"
      ]
    },
    {
      "cell_type": "markdown",
      "metadata": {
        "id": "vJseQzaaxFnn"
      },
      "source": [
        "Try to find relationships in this dataset through hypothesis testing. For each hypothesis test:\n",
        "\n",
        "- First chose a null hypothesis, or a statement that there is no effect between different variables, that serves as a default assumption.\n",
        "\n",
        "- Then chose an alternative hypothesis, or a statement that suggests that there is a correlation between different variables.\n",
        "\n",
        "For the questions below, assume $\\alpha = 0.05$."
      ]
    },
    {
      "cell_type": "markdown",
      "metadata": {
        "id": "TJlwAeQCxFnn"
      },
      "source": [
        "## First Hypothesis"
      ]
    },
    {
      "cell_type": "markdown",
      "metadata": {
        "id": "KTzMNuzOxFnn"
      },
      "source": [
        "- HO: The region of the college does not have an effect on the likelihood of the college type.\n",
        "\n",
        "- HA: The region of the college does have an effect on the likelihood of the college type."
      ]
    },
    {
      "cell_type": "markdown",
      "metadata": {
        "id": "sAJ5Ys87xFnn"
      },
      "source": [
        "Our plan is to apply a chi-squared test. You may find it helpful to consult the `scipy.stats` library's documentation:\n",
        "https://docs.scipy.org/doc/scipy/reference/stats.html"
      ]
    },
    {
      "cell_type": "markdown",
      "metadata": {
        "id": "ejZSrDUVxFnn"
      },
      "source": [
        "Contingency table is a table used in statistics to display the frequency distribution of variables. It will help us perform a chi-squared test on our data. You can find more information on contingency table here - https://en.wikipedia.org/wiki/Contingency_table"
      ]
    },
    {
      "cell_type": "markdown",
      "metadata": {
        "id": "XdZi1x-UxFnn"
      },
      "source": [
        "**TASK 3.1 (2 POINTS)**: Create a contingency table and display it."
      ]
    },
    {
      "cell_type": "code",
      "execution_count": 72,
      "metadata": {
        "id": "Mge-6Jh2xFnn"
      },
      "outputs": [
        {
          "data": {
            "application/vnd.microsoft.datawrangler.viewer.v0+json": {
              "columns": [
                {
                  "name": "region",
                  "rawType": "object",
                  "type": "string"
                },
                {
                  "name": "Private not-for-profit",
                  "rawType": "int64",
                  "type": "integer"
                },
                {
                  "name": "Public",
                  "rawType": "int64",
                  "type": "integer"
                }
              ],
              "ref": "ee0d9067-8b39-448c-be89-5c90eacc6e86",
              "rows": [
                [
                  "Midwest",
                  "54",
                  "37"
                ],
                [
                  "Northeast",
                  "109",
                  "39"
                ],
                [
                  "South",
                  "37",
                  "57"
                ],
                [
                  "West",
                  "37",
                  "52"
                ]
              ],
              "shape": {
                "columns": 2,
                "rows": 4
              }
            },
            "text/html": [
              "<div>\n",
              "<style scoped>\n",
              "    .dataframe tbody tr th:only-of-type {\n",
              "        vertical-align: middle;\n",
              "    }\n",
              "\n",
              "    .dataframe tbody tr th {\n",
              "        vertical-align: top;\n",
              "    }\n",
              "\n",
              "    .dataframe thead th {\n",
              "        text-align: right;\n",
              "    }\n",
              "</style>\n",
              "<table border=\"1\" class=\"dataframe\">\n",
              "  <thead>\n",
              "    <tr style=\"text-align: right;\">\n",
              "      <th>collegeType</th>\n",
              "      <th>Private not-for-profit</th>\n",
              "      <th>Public</th>\n",
              "    </tr>\n",
              "    <tr>\n",
              "      <th>region</th>\n",
              "      <th></th>\n",
              "      <th></th>\n",
              "    </tr>\n",
              "  </thead>\n",
              "  <tbody>\n",
              "    <tr>\n",
              "      <th>Midwest</th>\n",
              "      <td>54</td>\n",
              "      <td>37</td>\n",
              "    </tr>\n",
              "    <tr>\n",
              "      <th>Northeast</th>\n",
              "      <td>109</td>\n",
              "      <td>39</td>\n",
              "    </tr>\n",
              "    <tr>\n",
              "      <th>South</th>\n",
              "      <td>37</td>\n",
              "      <td>57</td>\n",
              "    </tr>\n",
              "    <tr>\n",
              "      <th>West</th>\n",
              "      <td>37</td>\n",
              "      <td>52</td>\n",
              "    </tr>\n",
              "  </tbody>\n",
              "</table>\n",
              "</div>"
            ],
            "text/plain": [
              "collegeType  Private not-for-profit  Public\n",
              "region                                     \n",
              "Midwest                          54      37\n",
              "Northeast                       109      39\n",
              "South                            37      57\n",
              "West                             37      52"
            ]
          },
          "metadata": {},
          "output_type": "display_data"
        }
      ],
      "source": [
        "df_cont = pd.crosstab(df[\"region\"], df[\"collegeType\"])\n",
        "display(df_cont)"
      ]
    },
    {
      "cell_type": "markdown",
      "metadata": {
        "id": "-299BtA5xFno"
      },
      "source": [
        "**TASK 3.2 (2 POINTS)**: Why would we consider using a chi-squared test specifically (as opposed to some other hypothesis test)?"
      ]
    },
    {
      "cell_type": "markdown",
      "metadata": {
        "id": "z6BLDJ7kxFno"
      },
      "source": [
        "> We are analyzing frequencies in a table, and the chi-squared test analyzes expected vs. actual frequencies in a table."
      ]
    },
    {
      "cell_type": "markdown",
      "metadata": {
        "id": "C_4Y0c3rxFno"
      },
      "source": [
        "**TASK 3.3 (2 POINTS)**: Create a plot showing the relationship between the regions and the no. of private colleges in it."
      ]
    },
    {
      "cell_type": "code",
      "execution_count": 73,
      "metadata": {
        "id": "X9I0g6Q7xFnq"
      },
      "outputs": [
        {
          "data": {
            "text/plain": [
              "<matplotlib.legend.Legend at 0x21e75b2d4f0>"
            ]
          },
          "execution_count": 73,
          "metadata": {},
          "output_type": "execute_result"
        },
        {
          "data": {
            "image/png": "[encoded data removed]",
            "text/plain": [
              "<Figure size 640x480 with 1 Axes>"
            ]
          },
          "metadata": {},
          "output_type": "display_data"
        }
      ],
      "source": [
        "plt.plot(df_cont[\"Private not-for-profit\"], label=\"Private not-for-profit\")\n",
        "plt.plot(df_cont[\"Public\"], label=\"Public\")\n",
        "plt.legend()\n"
      ]
    },
    {
      "cell_type": "markdown",
      "metadata": {
        "id": "Mlzi9e3jxFnq"
      },
      "source": [
        "**TASK 3.4 (2 POINTS)**: Explain what you can infer from your plot"
      ]
    },
    {
      "cell_type": "markdown",
      "metadata": {
        "id": "6C0XA1bRxFnq"
      },
      "source": [
        "> There is a noticeable difference in types of colleges per region: the northeast has the highest amount of private universities, while the south and west have the least."
      ]
    },
    {
      "cell_type": "markdown",
      "metadata": {
        "id": "xf8VFmFuxFnq"
      },
      "source": [
        "#Q4) (5 POINTS) Conduct the chi-squared test"
      ]
    },
    {
      "cell_type": "markdown",
      "metadata": {
        "id": "G4L1JOyaxFnq"
      },
      "source": [
        "**TASK: 4.1 (2 POINTS):** Display the p-value of applying the chi-squared test using the `chi2_contingency()` function."
      ]
    },
    {
      "cell_type": "code",
      "execution_count": 74,
      "metadata": {
        "id": "b0o_ZJ93xFnq"
      },
      "outputs": [
        {
          "data": {
            "text/plain": [
              "np.float64(4.1236859547961256e-08)"
            ]
          },
          "metadata": {},
          "output_type": "display_data"
        }
      ],
      "source": [
        "import scipy\n",
        "display(scipy.stats.contingency.chi2_contingency(df_cont).pvalue)"
      ]
    },
    {
      "cell_type": "markdown",
      "metadata": {
        "id": "egAsKCedxFnq"
      },
      "source": [
        "**TASK: 4.2  (3 POINTS)**: Based on the p-value, determine whether to reject or fail to reject the null hypothesis. Explain your answer."
      ]
    },
    {
      "cell_type": "markdown",
      "metadata": {
        "id": "7zGZziq1xFnq"
      },
      "source": [
        "\n",
        "> The p-value is extremely small, far smaller than the signifiance level, meaning that the null hypothesis is rejected."
      ]
    },
    {
      "cell_type": "markdown",
      "metadata": {
        "id": "Z7KycKn1xFnq"
      },
      "source": [
        "#Q5) (3 POINTS) A New Hypothesis\n",
        "\n",
        "\n"
      ]
    },
    {
      "cell_type": "markdown",
      "metadata": {
        "id": "aq50I4tfxFnq"
      },
      "source": [
        "Now create a new hypothesis test for whether the campus setting has an effect on the total student population. (Assume $\\alpha=0.05$)."
      ]
    },
    {
      "cell_type": "markdown",
      "metadata": {
        "id": "hZ2FFcYxxFnq"
      },
      "source": [
        "**TASK 5.1  (3 POINTS)**: Write down your null and alternative hypotheses:"
      ]
    },
    {
      "cell_type": "markdown",
      "metadata": {
        "id": "K1mWab_kxFnq"
      },
      "source": [
        "> Null hypothesis (HO) = The campus setting has no effect on total student population.\n",
        "> HA = The campus setting has an effect on total student population."
      ]
    },
    {
      "cell_type": "markdown",
      "metadata": {
        "id": "za_l19WtxFnr"
      },
      "source": [
        "#Q6) (7 POINTS) Hypothesis Testing\n"
      ]
    },
    {
      "cell_type": "markdown",
      "metadata": {
        "id": "zs0sI7xtxFnr"
      },
      "source": [
        "**TASK 6.0**: Split the data into 3 different dataframes based on campus setting."
      ]
    },
    {
      "cell_type": "code",
      "execution_count": 75,
      "metadata": {
        "id": "ZMbBhrotxFnr"
      },
      "outputs": [
        {
          "data": {
            "application/vnd.microsoft.datawrangler.viewer.v0+json": {
              "columns": [
                {
                  "name": "index",
                  "rawType": "int64",
                  "type": "integer"
                },
                {
                  "name": "description",
                  "rawType": "object",
                  "type": "string"
                },
                {
                  "name": "rank",
                  "rawType": "int64",
                  "type": "integer"
                },
                {
                  "name": "organizationName",
                  "rawType": "object",
                  "type": "string"
                },
                {
                  "name": "state",
                  "rawType": "object",
                  "type": "string"
                },
                {
                  "name": "studentPopulation",
                  "rawType": "int64",
                  "type": "integer"
                },
                {
                  "name": "campusSetting",
                  "rawType": "object",
                  "type": "string"
                },
                {
                  "name": "medianBaseSalary",
                  "rawType": "float64",
                  "type": "float"
                },
                {
                  "name": "longitude",
                  "rawType": "float64",
                  "type": "float"
                },
                {
                  "name": "latitude",
                  "rawType": "float64",
                  "type": "float"
                },
                {
                  "name": "website",
                  "rawType": "object",
                  "type": "string"
                },
                {
                  "name": "phoneNumber",
                  "rawType": "object",
                  "type": "string"
                },
                {
                  "name": "city",
                  "rawType": "object",
                  "type": "string"
                },
                {
                  "name": "country",
                  "rawType": "object",
                  "type": "string"
                },
                {
                  "name": "state.1",
                  "rawType": "object",
                  "type": "string"
                },
                {
                  "name": "region",
                  "rawType": "object",
                  "type": "string"
                },
                {
                  "name": "yearFounded",
                  "rawType": "float64",
                  "type": "float"
                },
                {
                  "name": "stateCode",
                  "rawType": "object",
                  "type": "string"
                },
                {
                  "name": "collegeType",
                  "rawType": "object",
                  "type": "string"
                },
                {
                  "name": "carnegieClassification",
                  "rawType": "object",
                  "type": "string"
                },
                {
                  "name": "studentFacultyRatio",
                  "rawType": "int64",
                  "type": "integer"
                },
                {
                  "name": "totalStudentPop",
                  "rawType": "int64",
                  "type": "integer"
                },
                {
                  "name": "undergradPop",
                  "rawType": "int64",
                  "type": "integer"
                },
                {
                  "name": "totalGrantAid",
                  "rawType": "float64",
                  "type": "float"
                },
                {
                  "name": "percentOfStudentsFinAid",
                  "rawType": "float64",
                  "type": "float"
                },
                {
                  "name": "percentOfStudentsGrant",
                  "rawType": "float64",
                  "type": "float"
                }
              ],
              "ref": "839ee586-f4a4-4595-9895-afdb375b0e4d",
              "rows": [
                [
                  "6",
                  "Located in rural Williamstown, MA, Williams College is among the oldest and most prestigious liberal arts schools in the country. Williams does not have any mandatory courses, but it does have rigorous requirements for students in the arts and humanities, social sciences, science and mathematics. The school emphasizes developing research, analytical, and communication skills. Don’t be fooled by the liberal arts label—Williams students love math and the sciences. The most popular majors include economics, biology and mathematics. In 2022, Williams became the first college in the nation to implement an “all-grant” financial aid policy, eliminating the need for loans and student employment in financial aid packages. Roughly a third of Williams students play a varsity sport, and the Williams Ephs compete in the Division III’s New England Small College Athletic Conference (NESCAC). Notable alumni include President James Garfield, investing billionaire Herbert Allen, Jr. and director John Frankenheimer.",
                  "7",
                  "Williams College",
                  "MA",
                  "2307",
                  "Rural",
                  "152600.0",
                  "-73.208078",
                  "42.712389",
                  "http://www.williams.edu",
                  "413-597-3131",
                  "Williamstown",
                  "United States",
                  "Massachusetts",
                  "Northeast",
                  "1793.0",
                  "MA",
                  "Private not-for-profit",
                  "Baccalaureate Colleges: Arts & Sciences Focus",
                  "6",
                  "2307",
                  "2251",
                  "15204855.0",
                  "62.0",
                  "52.0"
                ],
                [
                  "13",
                  "The smallest Ivy League school, Dartmouth College has educated some of America’s brightest in rural Hanover, NH since 1769. <br>Dartmouth adheres to a unique calendar of four 10-week terms, allowing students flexibility to take classes, pursue research, internship or study abroad. After completing their second year at Dartmouth, students remain in Hanover for “Sophomore Summer,” where they take classes and overrun the campus. <br>The school’s rural setting offers students  opportunities to enjoy the outdoors in New England: The Appalachian Trail runs through campus, and the school owns a ski hill 14 miles from campus. <br>The Dartmouth is the oldest college newspaper in the country, dating back to 1799. Extracurricular life is bustling at Dartmouth, including a rich tradition of Greek life—the movie Animal House is even based on a Dartmouth fraternity. <br>Some famous alums from Dartmouth include writer Theodor Geisel (Dr. Seuss), poet Robert Frost, Fred Rogers of Mr. Rogers’ Neighborhood and comedian Mindy Kaling. ",
                  "14",
                  "Dartmouth College",
                  "NH",
                  "7171",
                  "Rural",
                  "161300.0",
                  "-72.289499",
                  "43.700465",
                  "http://www.dartmouth.edu",
                  "(603) 646-1110",
                  "Hanover",
                  "United States",
                  "New Hampshire",
                  "Northeast",
                  "1769.0",
                  "NH",
                  "Private not-for-profit",
                  "Doctoral Universities: Very High Research Activity",
                  "7",
                  "7171",
                  "4885",
                  "27997693.0",
                  "58.0",
                  "45.0"
                ],
                [
                  "43",
                  "Colgate University is a leading liberal arts school located in the small town of Hamilton, NY. <br>All Colgate students complete the same five-class core curriculum by the end of their sophomore years. The courses include surveys on the ancient world, modernity, scientific perspectives and global engagement. <br>Each spring, Colgate hosts Entrepreneur Weekend, which features the school’s own version of Shark Tank. Student entrepreneurs pitch alumni sharks for cash prizes. <br>The Colgate Maroon-News, the university’s student newspaper, dates back to 1868. Journalist Bob Woodruff is a Maroon-News alumnus. <br>13 is Colgate’s lucky number: In 1819, 13 Baptist men started the university with $13 and 13 prayers. ",
                  "44",
                  "Colgate University",
                  "NY",
                  "3112",
                  "Rural",
                  "154400.0",
                  "-75.536415",
                  "42.821191",
                  "http://www.colgate.edu",
                  "(315) 228-7000",
                  "Hamilton",
                  "United States",
                  "New York",
                  "Northeast",
                  "1819.0",
                  "NY",
                  "Private not-for-profit",
                  "Baccalaureate Colleges: Arts & Sciences Focus",
                  "9",
                  "3112",
                  "3098",
                  "16450893.0",
                  "50.0",
                  "42.0"
                ],
                [
                  "47",
                  "Located in the town of Brunswick, ME, Bowdoin is a small, private college that provides students a tight-knit community and a comprehensive liberal arts education. <br>Bowdoin offers over 40 majors across 23 departments, with its most popular programs in government and legal studies, economics and mathematics. <br>Students declare a major in the spring of sophomore year. In the first two years, they complete a core curriculum, including a writing seminar and courses in mathematical reasoning, natural sciences, social differences, international perspective and performing arts. <br>Students make the most of Maine with activities like alpine skiing, rowing and curling, and an annual lobster bake to kick off the academic year. <br>Within one year of graduating, about 75% of graduates are employed, and over 15% are pursuing further education.",
                  "48",
                  "Bowdoin College",
                  "ME",
                  "1973",
                  "Rural",
                  "145600.0",
                  "-69.963975",
                  "43.906764",
                  "http://www.bowdoin.edu",
                  "(207) 725-3000",
                  "Brunswick",
                  "United States",
                  "Maine",
                  "Northeast",
                  "1794.0",
                  "ME",
                  "Private not-for-profit",
                  "Baccalaureate Colleges: Arts & Sciences Focus",
                  "8",
                  "1973",
                  "1973",
                  "12574545.0",
                  "58.0",
                  "52.0"
                ],
                [
                  "54",
                  "Middlebury College is a small private liberal arts college in Middlebury, VT, that offers 45 majors in humanities, foreign languages, cultural studies, natural sciences and social sciences. <br>Middlebury is committed to meeting 100% of students’ demonstrated financial need, and has need-blind admission for domestic students. The average grant covers 90% of the cost of tuition. <br>The 350-acre campus is situated between the Adirondack and Green Mountains. Because of its location, students enjoy outdoor activities and clubs. <br>More than half of each junior class studies abroad through affiliated and externally sponsored programs in more than 50 countries. <br>Brian Deese, senior economic advisor to President Joe Biden, is an alumnus of the school. Former Vermont Governor James H. Douglass also graduated from Middlebury.",
                  "55",
                  "Middlebury College",
                  "VT",
                  "4616",
                  "Rural",
                  "138100.0",
                  "-73.167117",
                  "44.014999",
                  "http://www.middlebury.edu",
                  "802-443-3000",
                  "Middlebury",
                  "United States",
                  "Vermont",
                  "Northeast",
                  "1800.0",
                  "VT",
                  "Private not-for-profit",
                  "Baccalaureate Colleges: Arts & Sciences Focus",
                  "8",
                  "4616",
                  "3833",
                  "12382994.0",
                  "43.0",
                  "41.0"
                ]
              ],
              "shape": {
                "columns": 25,
                "rows": 5
              }
            },
            "text/html": [
              "<div>\n",
              "<style scoped>\n",
              "    .dataframe tbody tr th:only-of-type {\n",
              "        vertical-align: middle;\n",
              "    }\n",
              "\n",
              "    .dataframe tbody tr th {\n",
              "        vertical-align: top;\n",
              "    }\n",
              "\n",
              "    .dataframe thead th {\n",
              "        text-align: right;\n",
              "    }\n",
              "</style>\n",
              "<table border=\"1\" class=\"dataframe\">\n",
              "  <thead>\n",
              "    <tr style=\"text-align: right;\">\n",
              "      <th></th>\n",
              "      <th>description</th>\n",
              "      <th>rank</th>\n",
              "      <th>organizationName</th>\n",
              "      <th>state</th>\n",
              "      <th>studentPopulation</th>\n",
              "      <th>campusSetting</th>\n",
              "      <th>medianBaseSalary</th>\n",
              "      <th>longitude</th>\n",
              "      <th>latitude</th>\n",
              "      <th>website</th>\n",
              "      <th>...</th>\n",
              "      <th>yearFounded</th>\n",
              "      <th>stateCode</th>\n",
              "      <th>collegeType</th>\n",
              "      <th>carnegieClassification</th>\n",
              "      <th>studentFacultyRatio</th>\n",
              "      <th>totalStudentPop</th>\n",
              "      <th>undergradPop</th>\n",
              "      <th>totalGrantAid</th>\n",
              "      <th>percentOfStudentsFinAid</th>\n",
              "      <th>percentOfStudentsGrant</th>\n",
              "    </tr>\n",
              "  </thead>\n",
              "  <tbody>\n",
              "    <tr>\n",
              "      <th>6</th>\n",
              "      <td>Located in rural Williamstown, MA, Williams Co...</td>\n",
              "      <td>7</td>\n",
              "      <td>Williams College</td>\n",
              "      <td>MA</td>\n",
              "      <td>2307</td>\n",
              "      <td>Rural</td>\n",
              "      <td>152600.0</td>\n",
              "      <td>-73.208078</td>\n",
              "      <td>42.712389</td>\n",
              "      <td>http://www.williams.edu</td>\n",
              "      <td>...</td>\n",
              "      <td>1793.0</td>\n",
              "      <td>MA</td>\n",
              "      <td>Private not-for-profit</td>\n",
              "      <td>Baccalaureate Colleges: Arts &amp; Sciences Focus</td>\n",
              "      <td>6</td>\n",
              "      <td>2307</td>\n",
              "      <td>2251</td>\n",
              "      <td>15204855.0</td>\n",
              "      <td>62.0</td>\n",
              "      <td>52.0</td>\n",
              "    </tr>\n",
              "    <tr>\n",
              "      <th>13</th>\n",
              "      <td>The smallest Ivy League school, Dartmouth Coll...</td>\n",
              "      <td>14</td>\n",
              "      <td>Dartmouth College</td>\n",
              "      <td>NH</td>\n",
              "      <td>7171</td>\n",
              "      <td>Rural</td>\n",
              "      <td>161300.0</td>\n",
              "      <td>-72.289499</td>\n",
              "      <td>43.700465</td>\n",
              "      <td>http://www.dartmouth.edu</td>\n",
              "      <td>...</td>\n",
              "      <td>1769.0</td>\n",
              "      <td>NH</td>\n",
              "      <td>Private not-for-profit</td>\n",
              "      <td>Doctoral Universities: Very High Research Acti...</td>\n",
              "      <td>7</td>\n",
              "      <td>7171</td>\n",
              "      <td>4885</td>\n",
              "      <td>27997693.0</td>\n",
              "      <td>58.0</td>\n",
              "      <td>45.0</td>\n",
              "    </tr>\n",
              "    <tr>\n",
              "      <th>43</th>\n",
              "      <td>Colgate University is a leading liberal arts s...</td>\n",
              "      <td>44</td>\n",
              "      <td>Colgate University</td>\n",
              "      <td>NY</td>\n",
              "      <td>3112</td>\n",
              "      <td>Rural</td>\n",
              "      <td>154400.0</td>\n",
              "      <td>-75.536415</td>\n",
              "      <td>42.821191</td>\n",
              "      <td>http://www.colgate.edu</td>\n",
              "      <td>...</td>\n",
              "      <td>1819.0</td>\n",
              "      <td>NY</td>\n",
              "      <td>Private not-for-profit</td>\n",
              "      <td>Baccalaureate Colleges: Arts &amp; Sciences Focus</td>\n",
              "      <td>9</td>\n",
              "      <td>3112</td>\n",
              "      <td>3098</td>\n",
              "      <td>16450893.0</td>\n",
              "      <td>50.0</td>\n",
              "      <td>42.0</td>\n",
              "    </tr>\n",
              "    <tr>\n",
              "      <th>47</th>\n",
              "      <td>Located in the town of Brunswick, ME, Bowdoin ...</td>\n",
              "      <td>48</td>\n",
              "      <td>Bowdoin College</td>\n",
              "      <td>ME</td>\n",
              "      <td>1973</td>\n",
              "      <td>Rural</td>\n",
              "      <td>145600.0</td>\n",
              "      <td>-69.963975</td>\n",
              "      <td>43.906764</td>\n",
              "      <td>http://www.bowdoin.edu</td>\n",
              "      <td>...</td>\n",
              "      <td>1794.0</td>\n",
              "      <td>ME</td>\n",
              "      <td>Private not-for-profit</td>\n",
              "      <td>Baccalaureate Colleges: Arts &amp; Sciences Focus</td>\n",
              "      <td>8</td>\n",
              "      <td>1973</td>\n",
              "      <td>1973</td>\n",
              "      <td>12574545.0</td>\n",
              "      <td>58.0</td>\n",
              "      <td>52.0</td>\n",
              "    </tr>\n",
              "    <tr>\n",
              "      <th>54</th>\n",
              "      <td>Middlebury College is a small private liberal ...</td>\n",
              "      <td>55</td>\n",
              "      <td>Middlebury College</td>\n",
              "      <td>VT</td>\n",
              "      <td>4616</td>\n",
              "      <td>Rural</td>\n",
              "      <td>138100.0</td>\n",
              "      <td>-73.167117</td>\n",
              "      <td>44.014999</td>\n",
              "      <td>http://www.middlebury.edu</td>\n",
              "      <td>...</td>\n",
              "      <td>1800.0</td>\n",
              "      <td>VT</td>\n",
              "      <td>Private not-for-profit</td>\n",
              "      <td>Baccalaureate Colleges: Arts &amp; Sciences Focus</td>\n",
              "      <td>8</td>\n",
              "      <td>4616</td>\n",
              "      <td>3833</td>\n",
              "      <td>12382994.0</td>\n",
              "      <td>43.0</td>\n",
              "      <td>41.0</td>\n",
              "    </tr>\n",
              "  </tbody>\n",
              "</table>\n",
              "<p>5 rows × 25 columns</p>\n",
              "</div>"
            ],
            "text/plain": [
              "                                          description  rank  \\\n",
              "6   Located in rural Williamstown, MA, Williams Co...     7   \n",
              "13  The smallest Ivy League school, Dartmouth Coll...    14   \n",
              "43  Colgate University is a leading liberal arts s...    44   \n",
              "47  Located in the town of Brunswick, ME, Bowdoin ...    48   \n",
              "54  Middlebury College is a small private liberal ...    55   \n",
              "\n",
              "      organizationName state  studentPopulation campusSetting  \\\n",
              "6     Williams College    MA               2307         Rural   \n",
              "13   Dartmouth College    NH               7171         Rural   \n",
              "43  Colgate University    NY               3112         Rural   \n",
              "47     Bowdoin College    ME               1973         Rural   \n",
              "54  Middlebury College    VT               4616         Rural   \n",
              "\n",
              "    medianBaseSalary  longitude   latitude                    website  ...  \\\n",
              "6           152600.0 -73.208078  42.712389    http://www.williams.edu  ...   \n",
              "13          161300.0 -72.289499  43.700465   http://www.dartmouth.edu  ...   \n",
              "43          154400.0 -75.536415  42.821191     http://www.colgate.edu  ...   \n",
              "47          145600.0 -69.963975  43.906764     http://www.bowdoin.edu  ...   \n",
              "54          138100.0 -73.167117  44.014999  http://www.middlebury.edu  ...   \n",
              "\n",
              "   yearFounded stateCode             collegeType  \\\n",
              "6       1793.0        MA  Private not-for-profit   \n",
              "13      1769.0        NH  Private not-for-profit   \n",
              "43      1819.0        NY  Private not-for-profit   \n",
              "47      1794.0        ME  Private not-for-profit   \n",
              "54      1800.0        VT  Private not-for-profit   \n",
              "\n",
              "                               carnegieClassification studentFacultyRatio  \\\n",
              "6       Baccalaureate Colleges: Arts & Sciences Focus                   6   \n",
              "13  Doctoral Universities: Very High Research Acti...                   7   \n",
              "43      Baccalaureate Colleges: Arts & Sciences Focus                   9   \n",
              "47      Baccalaureate Colleges: Arts & Sciences Focus                   8   \n",
              "54      Baccalaureate Colleges: Arts & Sciences Focus                   8   \n",
              "\n",
              "    totalStudentPop undergradPop totalGrantAid percentOfStudentsFinAid  \\\n",
              "6              2307         2251    15204855.0                    62.0   \n",
              "13             7171         4885    27997693.0                    58.0   \n",
              "43             3112         3098    16450893.0                    50.0   \n",
              "47             1973         1973    12574545.0                    58.0   \n",
              "54             4616         3833    12382994.0                    43.0   \n",
              "\n",
              "    percentOfStudentsGrant  \n",
              "6                     52.0  \n",
              "13                    45.0  \n",
              "43                    42.0  \n",
              "47                    52.0  \n",
              "54                    41.0  \n",
              "\n",
              "[5 rows x 25 columns]"
            ]
          },
          "metadata": {},
          "output_type": "display_data"
        },
        {
          "data": {
            "application/vnd.microsoft.datawrangler.viewer.v0+json": {
              "columns": [
                {
                  "name": "index",
                  "rawType": "int64",
                  "type": "integer"
                },
                {
                  "name": "description",
                  "rawType": "object",
                  "type": "string"
                },
                {
                  "name": "rank",
                  "rawType": "int64",
                  "type": "integer"
                },
                {
                  "name": "organizationName",
                  "rawType": "object",
                  "type": "string"
                },
                {
                  "name": "state",
                  "rawType": "object",
                  "type": "string"
                },
                {
                  "name": "studentPopulation",
                  "rawType": "int64",
                  "type": "integer"
                },
                {
                  "name": "campusSetting",
                  "rawType": "object",
                  "type": "string"
                },
                {
                  "name": "medianBaseSalary",
                  "rawType": "float64",
                  "type": "float"
                },
                {
                  "name": "longitude",
                  "rawType": "float64",
                  "type": "float"
                },
                {
                  "name": "latitude",
                  "rawType": "float64",
                  "type": "float"
                },
                {
                  "name": "website",
                  "rawType": "object",
                  "type": "string"
                },
                {
                  "name": "phoneNumber",
                  "rawType": "object",
                  "type": "string"
                },
                {
                  "name": "city",
                  "rawType": "object",
                  "type": "string"
                },
                {
                  "name": "country",
                  "rawType": "object",
                  "type": "string"
                },
                {
                  "name": "state.1",
                  "rawType": "object",
                  "type": "string"
                },
                {
                  "name": "region",
                  "rawType": "object",
                  "type": "string"
                },
                {
                  "name": "yearFounded",
                  "rawType": "float64",
                  "type": "float"
                },
                {
                  "name": "stateCode",
                  "rawType": "object",
                  "type": "string"
                },
                {
                  "name": "collegeType",
                  "rawType": "object",
                  "type": "string"
                },
                {
                  "name": "carnegieClassification",
                  "rawType": "object",
                  "type": "string"
                },
                {
                  "name": "studentFacultyRatio",
                  "rawType": "int64",
                  "type": "integer"
                },
                {
                  "name": "totalStudentPop",
                  "rawType": "int64",
                  "type": "integer"
                },
                {
                  "name": "undergradPop",
                  "rawType": "int64",
                  "type": "integer"
                },
                {
                  "name": "totalGrantAid",
                  "rawType": "float64",
                  "type": "float"
                },
                {
                  "name": "percentOfStudentsFinAid",
                  "rawType": "float64",
                  "type": "float"
                },
                {
                  "name": "percentOfStudentsGrant",
                  "rawType": "float64",
                  "type": "float"
                }
              ],
              "ref": "c4884c2a-1989-44c3-afdf-acbe8573e8fe",
              "rows": [
                [
                  "1",
                  "Stanford University sits just outside of Palo Alto, CA. This world class private research university is renowned for its STEM programs, which have produced numerous Nobel Prize, Turing Award and Fields Medal recipients. The institution’s engineering school has housed some of the most accomplished innovations of Silicon Valley. Stanford fields 36 varsity teams and 33 club sports, active Greek life and community service through the university-wide Cardinal Service program. Committed to making their education affordable, families with annual incomes below $75,000 are not expected to pay tuition, room or board at Stanford. Alumni include billionaire venture capitalist Peter Thiel, Instagram cofounder Kevin Systrom, Senator Cory Booker and Sandra Day O’Connor, the first female Supreme Court Justice.",
                  "2",
                  "Stanford University",
                  "CA",
                  "20961",
                  "Suburban",
                  "173500.0",
                  "-122.168924",
                  "37.43137",
                  "http://www.stanford.edu",
                  "650-723-2091",
                  "Stanford",
                  "United States",
                  "California",
                  "West",
                  "1891.0",
                  "CA",
                  "Private not-for-profit",
                  "Doctoral Universities: Very High Research Activity",
                  "4",
                  "20961",
                  "8464",
                  "51328461.0",
                  "70.0",
                  "55.0"
                ],
                [
                  "22",
                  "The second-oldest member of the University of California system, UC Davis is a large public university in the Sacramento Valley. <br>UC Davis received $941 million in research funding last year. Half of undergraduates conduct research or do creative projects, many for capstone projects which are often published. <br>There are more than 100 majors at UC Davis, ranging from Chicana/Chicano Studies to Wildlife, Fish and Conservation Biology. <br>The school’s residential halls compete in an annual Energy and Water Challenge as part of UC Davis’ many sustainability efforts. The university also supports a 100 acre arboretum, a sustainable, student-run farm and cutting edge research into climate change. <br>Notable UC Davis alumni include comedian Hasan Minhaj and astronauts Stephen Robinson and Tracy Caldwell Dyson.",
                  "23",
                  "University of California, Davis",
                  "CA",
                  "41236",
                  "Suburban",
                  "134800.0",
                  "-121.747976",
                  "38.540631",
                  "http://www.ucdavis.edu",
                  "(530) 752-1011",
                  "Davis",
                  "United States",
                  "California",
                  "West",
                  "1908.0",
                  "CA",
                  "Public",
                  "Doctoral Universities: Very High Research Activity",
                  "20",
                  "41236",
                  "33181",
                  "72219528.0",
                  "74.0",
                  "66.0"
                ],
                [
                  "23",
                  "A top liberal arts school, Amherst is located in the college town of Amherst, MA. The school is a member of the cooperative 5 College Consortium along with the nearby Smith College, Hampshire College, Mt. Holyoke College and the University of Massachusetts, Amherst. <br>Amherst may be small in size, but not in resources. The school operates an art museum, natural history museum, planetarium, and a museum dedicated to local poet Emily Dickinson. <br>The school’s picturesque 500-acre wildlife sanctuary is used for research and recreation purposes, featuring trails, fields and several bodies of water. <br>The Powerhouse, a converted steam plant, serves as a hub of on-campus social life, hosting pub nights, acapella concerts and movie screenings. <br>Notable alumni include President Calvin Coolidge, Albert II, Prince of Monaco, and authors David Foster Wallace and Dan Brown. ",
                  "24",
                  "Amherst College",
                  "MA",
                  "1940",
                  "Suburban",
                  "148700.0",
                  "-72.533204",
                  "42.370772",
                  "http://https://www.amherst.edu",
                  "413-542-2000",
                  "Amherst",
                  "United States",
                  "Massachusetts",
                  "Northeast",
                  "1821.0",
                  "MA",
                  "Private not-for-profit",
                  "Baccalaureate Colleges: Arts & Sciences Focus",
                  "7",
                  "1940",
                  "1940",
                  "15522081.0",
                  "65.0",
                  "57.0"
                ],
                [
                  "26",
                  "A private research university, Washington University in St. Louis is one of the oldest and most prestigious institutions in the Midwest. <br>Wash attracts students from more than 100 countries, and 65% of students travel more than 500 miles to attend the school. <br>Students can learn from some of the best and brightest. The school counts 4 Pulitzer Prize winners and national 3 Poet Laureates. Chemistry and Medicine faculty have recently been awarded Nobel Prizes. <br>The 1904 Olympics, North America’s first Olympic games, were held on Washington University’s campus. A massive Olympic Rings sculpture was installed on campus in 2018 to commemorate the occasion. <br>Some of the most popular destination companies for the Class of 2020 were Amazon, Teach for America, and local businesses giant Anheuser-Busch. ",
                  "27",
                  "Washington University in St. Louis",
                  "MO",
                  "17893",
                  "Suburban",
                  "136000.0",
                  "-90.301291",
                  "38.647812",
                  "http://www.wustl.edu",
                  "(314) 935-5000",
                  "St. Louis",
                  "United States",
                  "Missouri",
                  "Midwest",
                  "1853.0",
                  "MO",
                  "Private not-for-profit",
                  "Doctoral Universities: Very High Research Activity",
                  "7",
                  "17893",
                  "8909",
                  "39741443.0",
                  "54.0",
                  "46.0"
                ],
                [
                  "28",
                  "This public research university of Charlottesville, VA, was established by Thomas Jefferson over two centuries ago. The campus, commonly known as “The Grounds,” has received praise for its Jeffersonian architecture. <br>Students have 73 different majors to choose from across eight undergraduate schools, three professional schools and the satellite College at Wise. The university offers many undergraduate research programs, awards and summer programs.<br>Students participate in more than 800 clubs and organizations, community service opportunities, and 62 Greek life chapters. The university is also home to numerous secret societies. <br>About 70% of students are Virginia residents. The Jefferson Scholars Program and the Walentas Scholars Program are awarded to outstanding undergraduate students and cover the full cost of attendance for four years. <br>Notable alumni include Reddit co-founder Alexis Ohanian, journalist Katie Couric and actor Tina Fey.",
                  "29",
                  "University of Virginia",
                  "VA",
                  "29237",
                  "Suburban",
                  "137300.0",
                  "-78.581033",
                  "38.078711",
                  "http://www.virginia.edu",
                  "(434) 924-0211",
                  "Charlottesville",
                  "United States",
                  "Virginia",
                  "South",
                  "1819.0",
                  "VA",
                  "Public",
                  "Doctoral Universities: Very High Research Activity",
                  "15",
                  "29237",
                  "19253",
                  "34787367.0",
                  "60.0",
                  "39.0"
                ]
              ],
              "shape": {
                "columns": 25,
                "rows": 5
              }
            },
            "text/html": [
              "<div>\n",
              "<style scoped>\n",
              "    .dataframe tbody tr th:only-of-type {\n",
              "        vertical-align: middle;\n",
              "    }\n",
              "\n",
              "    .dataframe tbody tr th {\n",
              "        vertical-align: top;\n",
              "    }\n",
              "\n",
              "    .dataframe thead th {\n",
              "        text-align: right;\n",
              "    }\n",
              "</style>\n",
              "<table border=\"1\" class=\"dataframe\">\n",
              "  <thead>\n",
              "    <tr style=\"text-align: right;\">\n",
              "      <th></th>\n",
              "      <th>description</th>\n",
              "      <th>rank</th>\n",
              "      <th>organizationName</th>\n",
              "      <th>state</th>\n",
              "      <th>studentPopulation</th>\n",
              "      <th>campusSetting</th>\n",
              "      <th>medianBaseSalary</th>\n",
              "      <th>longitude</th>\n",
              "      <th>latitude</th>\n",
              "      <th>website</th>\n",
              "      <th>...</th>\n",
              "      <th>yearFounded</th>\n",
              "      <th>stateCode</th>\n",
              "      <th>collegeType</th>\n",
              "      <th>carnegieClassification</th>\n",
              "      <th>studentFacultyRatio</th>\n",
              "      <th>totalStudentPop</th>\n",
              "      <th>undergradPop</th>\n",
              "      <th>totalGrantAid</th>\n",
              "      <th>percentOfStudentsFinAid</th>\n",
              "      <th>percentOfStudentsGrant</th>\n",
              "    </tr>\n",
              "  </thead>\n",
              "  <tbody>\n",
              "    <tr>\n",
              "      <th>1</th>\n",
              "      <td>Stanford University sits just outside of Palo ...</td>\n",
              "      <td>2</td>\n",
              "      <td>Stanford University</td>\n",
              "      <td>CA</td>\n",
              "      <td>20961</td>\n",
              "      <td>Suburban</td>\n",
              "      <td>173500.0</td>\n",
              "      <td>-122.168924</td>\n",
              "      <td>37.431370</td>\n",
              "      <td>http://www.stanford.edu</td>\n",
              "      <td>...</td>\n",
              "      <td>1891.0</td>\n",
              "      <td>CA</td>\n",
              "      <td>Private not-for-profit</td>\n",
              "      <td>Doctoral Universities: Very High Research Acti...</td>\n",
              "      <td>4</td>\n",
              "      <td>20961</td>\n",
              "      <td>8464</td>\n",
              "      <td>51328461.0</td>\n",
              "      <td>70.0</td>\n",
              "      <td>55.0</td>\n",
              "    </tr>\n",
              "    <tr>\n",
              "      <th>22</th>\n",
              "      <td>The second-oldest member of the University of ...</td>\n",
              "      <td>23</td>\n",
              "      <td>University of California, Davis</td>\n",
              "      <td>CA</td>\n",
              "      <td>41236</td>\n",
              "      <td>Suburban</td>\n",
              "      <td>134800.0</td>\n",
              "      <td>-121.747976</td>\n",
              "      <td>38.540631</td>\n",
              "      <td>http://www.ucdavis.edu</td>\n",
              "      <td>...</td>\n",
              "      <td>1908.0</td>\n",
              "      <td>CA</td>\n",
              "      <td>Public</td>\n",
              "      <td>Doctoral Universities: Very High Research Acti...</td>\n",
              "      <td>20</td>\n",
              "      <td>41236</td>\n",
              "      <td>33181</td>\n",
              "      <td>72219528.0</td>\n",
              "      <td>74.0</td>\n",
              "      <td>66.0</td>\n",
              "    </tr>\n",
              "    <tr>\n",
              "      <th>23</th>\n",
              "      <td>A top liberal arts school, Amherst is located ...</td>\n",
              "      <td>24</td>\n",
              "      <td>Amherst College</td>\n",
              "      <td>MA</td>\n",
              "      <td>1940</td>\n",
              "      <td>Suburban</td>\n",
              "      <td>148700.0</td>\n",
              "      <td>-72.533204</td>\n",
              "      <td>42.370772</td>\n",
              "      <td>http://https://www.amherst.edu</td>\n",
              "      <td>...</td>\n",
              "      <td>1821.0</td>\n",
              "      <td>MA</td>\n",
              "      <td>Private not-for-profit</td>\n",
              "      <td>Baccalaureate Colleges: Arts &amp; Sciences Focus</td>\n",
              "      <td>7</td>\n",
              "      <td>1940</td>\n",
              "      <td>1940</td>\n",
              "      <td>15522081.0</td>\n",
              "      <td>65.0</td>\n",
              "      <td>57.0</td>\n",
              "    </tr>\n",
              "    <tr>\n",
              "      <th>26</th>\n",
              "      <td>A private research university, Washington Univ...</td>\n",
              "      <td>27</td>\n",
              "      <td>Washington University in St. Louis</td>\n",
              "      <td>MO</td>\n",
              "      <td>17893</td>\n",
              "      <td>Suburban</td>\n",
              "      <td>136000.0</td>\n",
              "      <td>-90.301291</td>\n",
              "      <td>38.647812</td>\n",
              "      <td>http://www.wustl.edu</td>\n",
              "      <td>...</td>\n",
              "      <td>1853.0</td>\n",
              "      <td>MO</td>\n",
              "      <td>Private not-for-profit</td>\n",
              "      <td>Doctoral Universities: Very High Research Acti...</td>\n",
              "      <td>7</td>\n",
              "      <td>17893</td>\n",
              "      <td>8909</td>\n",
              "      <td>39741443.0</td>\n",
              "      <td>54.0</td>\n",
              "      <td>46.0</td>\n",
              "    </tr>\n",
              "    <tr>\n",
              "      <th>28</th>\n",
              "      <td>This public research university of Charlottesv...</td>\n",
              "      <td>29</td>\n",
              "      <td>University of Virginia</td>\n",
              "      <td>VA</td>\n",
              "      <td>29237</td>\n",
              "      <td>Suburban</td>\n",
              "      <td>137300.0</td>\n",
              "      <td>-78.581033</td>\n",
              "      <td>38.078711</td>\n",
              "      <td>http://www.virginia.edu</td>\n",
              "      <td>...</td>\n",
              "      <td>1819.0</td>\n",
              "      <td>VA</td>\n",
              "      <td>Public</td>\n",
              "      <td>Doctoral Universities: Very High Research Acti...</td>\n",
              "      <td>15</td>\n",
              "      <td>29237</td>\n",
              "      <td>19253</td>\n",
              "      <td>34787367.0</td>\n",
              "      <td>60.0</td>\n",
              "      <td>39.0</td>\n",
              "    </tr>\n",
              "  </tbody>\n",
              "</table>\n",
              "<p>5 rows × 25 columns</p>\n",
              "</div>"
            ],
            "text/plain": [
              "                                          description  rank  \\\n",
              "1   Stanford University sits just outside of Palo ...     2   \n",
              "22  The second-oldest member of the University of ...    23   \n",
              "23  A top liberal arts school, Amherst is located ...    24   \n",
              "26  A private research university, Washington Univ...    27   \n",
              "28  This public research university of Charlottesv...    29   \n",
              "\n",
              "                      organizationName state  studentPopulation campusSetting  \\\n",
              "1                  Stanford University    CA              20961      Suburban   \n",
              "22     University of California, Davis    CA              41236      Suburban   \n",
              "23                     Amherst College    MA               1940      Suburban   \n",
              "26  Washington University in St. Louis    MO              17893      Suburban   \n",
              "28              University of Virginia    VA              29237      Suburban   \n",
              "\n",
              "    medianBaseSalary   longitude   latitude                         website  \\\n",
              "1           173500.0 -122.168924  37.431370         http://www.stanford.edu   \n",
              "22          134800.0 -121.747976  38.540631          http://www.ucdavis.edu   \n",
              "23          148700.0  -72.533204  42.370772  http://https://www.amherst.edu   \n",
              "26          136000.0  -90.301291  38.647812            http://www.wustl.edu   \n",
              "28          137300.0  -78.581033  38.078711         http://www.virginia.edu   \n",
              "\n",
              "    ... yearFounded stateCode             collegeType  \\\n",
              "1   ...      1891.0        CA  Private not-for-profit   \n",
              "22  ...      1908.0        CA                  Public   \n",
              "23  ...      1821.0        MA  Private not-for-profit   \n",
              "26  ...      1853.0        MO  Private not-for-profit   \n",
              "28  ...      1819.0        VA                  Public   \n",
              "\n",
              "                               carnegieClassification studentFacultyRatio  \\\n",
              "1   Doctoral Universities: Very High Research Acti...                   4   \n",
              "22  Doctoral Universities: Very High Research Acti...                  20   \n",
              "23      Baccalaureate Colleges: Arts & Sciences Focus                   7   \n",
              "26  Doctoral Universities: Very High Research Acti...                   7   \n",
              "28  Doctoral Universities: Very High Research Acti...                  15   \n",
              "\n",
              "    totalStudentPop undergradPop totalGrantAid percentOfStudentsFinAid  \\\n",
              "1             20961         8464    51328461.0                    70.0   \n",
              "22            41236        33181    72219528.0                    74.0   \n",
              "23             1940         1940    15522081.0                    65.0   \n",
              "26            17893         8909    39741443.0                    54.0   \n",
              "28            29237        19253    34787367.0                    60.0   \n",
              "\n",
              "    percentOfStudentsGrant  \n",
              "1                     55.0  \n",
              "22                    66.0  \n",
              "23                    57.0  \n",
              "26                    46.0  \n",
              "28                    39.0  \n",
              "\n",
              "[5 rows x 25 columns]"
            ]
          },
          "metadata": {},
          "output_type": "display_data"
        },
        {
          "data": {
            "application/vnd.microsoft.datawrangler.viewer.v0+json": {
              "columns": [
                {
                  "name": "index",
                  "rawType": "int64",
                  "type": "integer"
                },
                {
                  "name": "description",
                  "rawType": "object",
                  "type": "string"
                },
                {
                  "name": "rank",
                  "rawType": "int64",
                  "type": "integer"
                },
                {
                  "name": "organizationName",
                  "rawType": "object",
                  "type": "string"
                },
                {
                  "name": "state",
                  "rawType": "object",
                  "type": "string"
                },
                {
                  "name": "studentPopulation",
                  "rawType": "int64",
                  "type": "integer"
                },
                {
                  "name": "campusSetting",
                  "rawType": "object",
                  "type": "string"
                },
                {
                  "name": "medianBaseSalary",
                  "rawType": "float64",
                  "type": "float"
                },
                {
                  "name": "longitude",
                  "rawType": "float64",
                  "type": "float"
                },
                {
                  "name": "latitude",
                  "rawType": "float64",
                  "type": "float"
                },
                {
                  "name": "website",
                  "rawType": "object",
                  "type": "string"
                },
                {
                  "name": "phoneNumber",
                  "rawType": "object",
                  "type": "string"
                },
                {
                  "name": "city",
                  "rawType": "object",
                  "type": "string"
                },
                {
                  "name": "country",
                  "rawType": "object",
                  "type": "string"
                },
                {
                  "name": "state.1",
                  "rawType": "object",
                  "type": "string"
                },
                {
                  "name": "region",
                  "rawType": "object",
                  "type": "string"
                },
                {
                  "name": "yearFounded",
                  "rawType": "float64",
                  "type": "float"
                },
                {
                  "name": "stateCode",
                  "rawType": "object",
                  "type": "string"
                },
                {
                  "name": "collegeType",
                  "rawType": "object",
                  "type": "string"
                },
                {
                  "name": "carnegieClassification",
                  "rawType": "object",
                  "type": "string"
                },
                {
                  "name": "studentFacultyRatio",
                  "rawType": "int64",
                  "type": "integer"
                },
                {
                  "name": "totalStudentPop",
                  "rawType": "int64",
                  "type": "integer"
                },
                {
                  "name": "undergradPop",
                  "rawType": "int64",
                  "type": "integer"
                },
                {
                  "name": "totalGrantAid",
                  "rawType": "float64",
                  "type": "float"
                },
                {
                  "name": "percentOfStudentsFinAid",
                  "rawType": "float64",
                  "type": "float"
                },
                {
                  "name": "percentOfStudentsGrant",
                  "rawType": "float64",
                  "type": "float"
                }
              ],
              "ref": "3b91a250-b6cb-4557-af90-4bd586f3cb4c",
              "rows": [
                [
                  "0",
                  "A leading global research university, MIT attracts some of the most brilliant young minds to its Cambridge, MA, campus every year. MIT is committed to educating students in science, technology, and other areas to best serve the modern world. Last year, researchers at MIT filed 439 patents and 25 companies formed using the school’s intellectual property. Students looking for an escape from frigid New England winters can turn to MIT’s underground labyrinth of mural-lined tunnels that run beneath much of campus. Despite the school’s STEM focus, all students must complete a wide-ranging core curriculum which includes laboratory requirements and a 100-yard swim test. Many of the world’s top minds went to MIT, including Nobel Prize-winning physicist Richard Feynman, renowned architect I.M. Pei (who designed four buildings on MIT’s campus) and Italian Prime Minister Mario Draghi.",
                  "1",
                  "Massachusetts Institute of Technology",
                  "MA",
                  "12195",
                  "Urban",
                  "173700.0",
                  "-71.093539",
                  "42.359006",
                  "http://web.mit.edu",
                  "617-253-1000",
                  "Cambridge",
                  "United States",
                  "Massachusetts",
                  "Northeast",
                  "1861.0",
                  "MA",
                  "Private not-for-profit",
                  "Doctoral Universities: Very High Research Activity",
                  "3",
                  "12195",
                  "4582",
                  "35299332.0",
                  "75.0",
                  "60.0"
                ],
                [
                  "2",
                  "One of the top public universities in the country, UC Berkeley has a rich tradition of leading technological and social change. Berkeley’s faculty has had a hand in the discovery of Vitamins E and K, the development of the atomic bomb and the creation of the flu vaccine. Since the Free Speech Movement of the 1960s, Berkeley’s students have maintained a strong tradition of involvement in social justice movements, an attitude that pervades the Berkeley spirit to this day: The school is the top producer of Peace Corps members, and 5,300 students participate in off-campus public service programs. They offer a housing program that allows students to be a part of a smaller community with similar interests and identities while living on campus. The university has over 150 departments and eight interdisciplinary research units across five colleges and one school. Berkeley's faculty boasts 4 Pulitzer Prize winners.",
                  "2",
                  "University of California, Berkeley",
                  "CA",
                  "45878",
                  "Urban",
                  "154500.0",
                  "-122.258393",
                  "37.869236",
                  "http://www.berkeley.edu",
                  "(510) 642-6000",
                  "Berkeley",
                  "United States",
                  "California",
                  "West",
                  "1868.0",
                  "CA",
                  "Public",
                  "Doctoral Universities: Very High Research Activity",
                  "19",
                  "45878",
                  "33208",
                  "64495611.0",
                  "63.0",
                  "53.0"
                ],
                [
                  "3",
                  "Princeton is a leading private research university in Princeton, NJ, and the fourth oldest college in the United States. Students are placed into one of six residential colleges and are guaranteed housing for all four years of school.  Students whose families have an annual income below $65,000 are eligible for a grant to cover full tuition, residential college fee, room and board. Princeton meets 100% of demonstrated financial need for domestic and international students. Students at Princeton can choose from over 30 majors and 50 certificates. Popular programs are in the social sciences, STEM and public policy. Princeton shows commitment to service through learning, professions and community connections. Every senior writes a thesis or conducts an independent research project. Princeton alumni are high-achieving: The university has produced 21 Rhodes Scholars over the last decade and 18 total alumni recipients of the Nobel Prize.",
                  "4",
                  "Princeton University",
                  "NJ",
                  "8532",
                  "Urban",
                  "167600.0",
                  "-74.659119",
                  "40.349855",
                  "http://www.princeton.edu",
                  "609-258-3000",
                  "Princeton",
                  "United States",
                  "New Jersey",
                  "Northeast",
                  "1746.0",
                  "NJ",
                  "Private not-for-profit",
                  "Doctoral Universities: Very High Research Activity",
                  "4",
                  "8532",
                  "5516",
                  "44871096.0",
                  "62.0",
                  "61.0"
                ],
                [
                  "4",
                  "Located in upper Manhattan, Columbia University in the City of New York is a private, Ivy league university. The school utilizes its location to provide students with a wealth of resources and learning opportunities. Columbia houses three undergraduate programs: the flagship Columbia College, the college of engineering, and the School of General Studies which admits nontraditional students. Students looking for a broad liberal arts education benefit from Columbia’s core curriculum, which has requirements in literature, writing, art and science. The learning experience remains close with a 7-to-1 student to faculty ratio. Columbia dedicates nearly $1 billion annually into research. There are over 350 student organizations on campus, as well as Greek life. Housing is guaranteed for all four years, and most students take advantage of it. More Nobel Laureates have graduated from or taught at Columbia than any other university in the Ivy League. Columbia alumni include five founding fathers, 34 presidents and prime ministers, and nine Supreme Court justices.",
                  "5",
                  "Columbia University",
                  "NY",
                  "33882",
                  "Urban",
                  "148800.0",
                  "-73.961288",
                  "40.806515",
                  "http://www.columbia.edu",
                  "212-854-1754",
                  "New York",
                  "United States",
                  "New York",
                  "Northeast",
                  "1754.0",
                  "NY",
                  "Private not-for-profit",
                  "Doctoral Universities: Very High Research Activity",
                  "6",
                  "33882",
                  "8689",
                  "44615007.0",
                  "58.0",
                  "54.0"
                ],
                [
                  "5",
                  "The University of California, Los Angeles is the most applied-to university in the country, with the goal of welcoming applicants from all backgrounds. The public research university offers more than 125 undergraduate majors. Students learn from award-winning faculty members and two on-campus centers help match faculty and undergraduate students for research opportunities. Ranked one of the top Forbes Best Value colleges in 2019, the university also offers a number of merit scholarships. UCLA’s Bruins have won over 100 NCAA Division I national titles. Notable UCLA alumni include MLB trailblazer Jackie Robinson, director Francis Ford Coppola, diplomat Ralph Bunche, and Senator Kirsten Gillibrand.",
                  "6",
                  "University of California, Los Angeles",
                  "CA",
                  "46947",
                  "Urban",
                  "137200.0",
                  "-118.437855",
                  "34.073903",
                  "http://ucla.edu",
                  "310-825-4321",
                  "Los Angeles",
                  "United States",
                  "California",
                  "West",
                  "1919.0",
                  "CA",
                  "Public",
                  "Doctoral Universities: Very High Research Activity",
                  "18",
                  "46947",
                  "33641",
                  "61100980.0",
                  "73.0",
                  "67.0"
                ]
              ],
              "shape": {
                "columns": 25,
                "rows": 5
              }
            },
            "text/html": [
              "<div>\n",
              "<style scoped>\n",
              "    .dataframe tbody tr th:only-of-type {\n",
              "        vertical-align: middle;\n",
              "    }\n",
              "\n",
              "    .dataframe tbody tr th {\n",
              "        vertical-align: top;\n",
              "    }\n",
              "\n",
              "    .dataframe thead th {\n",
              "        text-align: right;\n",
              "    }\n",
              "</style>\n",
              "<table border=\"1\" class=\"dataframe\">\n",
              "  <thead>\n",
              "    <tr style=\"text-align: right;\">\n",
              "      <th></th>\n",
              "      <th>description</th>\n",
              "      <th>rank</th>\n",
              "      <th>organizationName</th>\n",
              "      <th>state</th>\n",
              "      <th>studentPopulation</th>\n",
              "      <th>campusSetting</th>\n",
              "      <th>medianBaseSalary</th>\n",
              "      <th>longitude</th>\n",
              "      <th>latitude</th>\n",
              "      <th>website</th>\n",
              "      <th>...</th>\n",
              "      <th>yearFounded</th>\n",
              "      <th>stateCode</th>\n",
              "      <th>collegeType</th>\n",
              "      <th>carnegieClassification</th>\n",
              "      <th>studentFacultyRatio</th>\n",
              "      <th>totalStudentPop</th>\n",
              "      <th>undergradPop</th>\n",
              "      <th>totalGrantAid</th>\n",
              "      <th>percentOfStudentsFinAid</th>\n",
              "      <th>percentOfStudentsGrant</th>\n",
              "    </tr>\n",
              "  </thead>\n",
              "  <tbody>\n",
              "    <tr>\n",
              "      <th>0</th>\n",
              "      <td>A leading global research university, MIT attr...</td>\n",
              "      <td>1</td>\n",
              "      <td>Massachusetts Institute of Technology</td>\n",
              "      <td>MA</td>\n",
              "      <td>12195</td>\n",
              "      <td>Urban</td>\n",
              "      <td>173700.0</td>\n",
              "      <td>-71.093539</td>\n",
              "      <td>42.359006</td>\n",
              "      <td>http://web.mit.edu</td>\n",
              "      <td>...</td>\n",
              "      <td>1861.0</td>\n",
              "      <td>MA</td>\n",
              "      <td>Private not-for-profit</td>\n",
              "      <td>Doctoral Universities: Very High Research Acti...</td>\n",
              "      <td>3</td>\n",
              "      <td>12195</td>\n",
              "      <td>4582</td>\n",
              "      <td>35299332.0</td>\n",
              "      <td>75.0</td>\n",
              "      <td>60.0</td>\n",
              "    </tr>\n",
              "    <tr>\n",
              "      <th>2</th>\n",
              "      <td>One of the top public universities in the coun...</td>\n",
              "      <td>2</td>\n",
              "      <td>University of California, Berkeley</td>\n",
              "      <td>CA</td>\n",
              "      <td>45878</td>\n",
              "      <td>Urban</td>\n",
              "      <td>154500.0</td>\n",
              "      <td>-122.258393</td>\n",
              "      <td>37.869236</td>\n",
              "      <td>http://www.berkeley.edu</td>\n",
              "      <td>...</td>\n",
              "      <td>1868.0</td>\n",
              "      <td>CA</td>\n",
              "      <td>Public</td>\n",
              "      <td>Doctoral Universities: Very High Research Acti...</td>\n",
              "      <td>19</td>\n",
              "      <td>45878</td>\n",
              "      <td>33208</td>\n",
              "      <td>64495611.0</td>\n",
              "      <td>63.0</td>\n",
              "      <td>53.0</td>\n",
              "    </tr>\n",
              "    <tr>\n",
              "      <th>3</th>\n",
              "      <td>Princeton is a leading private research univer...</td>\n",
              "      <td>4</td>\n",
              "      <td>Princeton University</td>\n",
              "      <td>NJ</td>\n",
              "      <td>8532</td>\n",
              "      <td>Urban</td>\n",
              "      <td>167600.0</td>\n",
              "      <td>-74.659119</td>\n",
              "      <td>40.349855</td>\n",
              "      <td>http://www.princeton.edu</td>\n",
              "      <td>...</td>\n",
              "      <td>1746.0</td>\n",
              "      <td>NJ</td>\n",
              "      <td>Private not-for-profit</td>\n",
              "      <td>Doctoral Universities: Very High Research Acti...</td>\n",
              "      <td>4</td>\n",
              "      <td>8532</td>\n",
              "      <td>5516</td>\n",
              "      <td>44871096.0</td>\n",
              "      <td>62.0</td>\n",
              "      <td>61.0</td>\n",
              "    </tr>\n",
              "    <tr>\n",
              "      <th>4</th>\n",
              "      <td>Located in upper Manhattan, Columbia Universit...</td>\n",
              "      <td>5</td>\n",
              "      <td>Columbia University</td>\n",
              "      <td>NY</td>\n",
              "      <td>33882</td>\n",
              "      <td>Urban</td>\n",
              "      <td>148800.0</td>\n",
              "      <td>-73.961288</td>\n",
              "      <td>40.806515</td>\n",
              "      <td>http://www.columbia.edu</td>\n",
              "      <td>...</td>\n",
              "      <td>1754.0</td>\n",
              "      <td>NY</td>\n",
              "      <td>Private not-for-profit</td>\n",
              "      <td>Doctoral Universities: Very High Research Acti...</td>\n",
              "      <td>6</td>\n",
              "      <td>33882</td>\n",
              "      <td>8689</td>\n",
              "      <td>44615007.0</td>\n",
              "      <td>58.0</td>\n",
              "      <td>54.0</td>\n",
              "    </tr>\n",
              "    <tr>\n",
              "      <th>5</th>\n",
              "      <td>The University of California, Los Angeles is t...</td>\n",
              "      <td>6</td>\n",
              "      <td>University of California, Los Angeles</td>\n",
              "      <td>CA</td>\n",
              "      <td>46947</td>\n",
              "      <td>Urban</td>\n",
              "      <td>137200.0</td>\n",
              "      <td>-118.437855</td>\n",
              "      <td>34.073903</td>\n",
              "      <td>http://ucla.edu</td>\n",
              "      <td>...</td>\n",
              "      <td>1919.0</td>\n",
              "      <td>CA</td>\n",
              "      <td>Public</td>\n",
              "      <td>Doctoral Universities: Very High Research Acti...</td>\n",
              "      <td>18</td>\n",
              "      <td>46947</td>\n",
              "      <td>33641</td>\n",
              "      <td>61100980.0</td>\n",
              "      <td>73.0</td>\n",
              "      <td>67.0</td>\n",
              "    </tr>\n",
              "  </tbody>\n",
              "</table>\n",
              "<p>5 rows × 25 columns</p>\n",
              "</div>"
            ],
            "text/plain": [
              "                                         description  rank  \\\n",
              "0  A leading global research university, MIT attr...     1   \n",
              "2  One of the top public universities in the coun...     2   \n",
              "3  Princeton is a leading private research univer...     4   \n",
              "4  Located in upper Manhattan, Columbia Universit...     5   \n",
              "5  The University of California, Los Angeles is t...     6   \n",
              "\n",
              "                        organizationName state  studentPopulation  \\\n",
              "0  Massachusetts Institute of Technology    MA              12195   \n",
              "2     University of California, Berkeley    CA              45878   \n",
              "3                   Princeton University    NJ               8532   \n",
              "4                    Columbia University    NY              33882   \n",
              "5  University of California, Los Angeles    CA              46947   \n",
              "\n",
              "  campusSetting  medianBaseSalary   longitude   latitude  \\\n",
              "0         Urban          173700.0  -71.093539  42.359006   \n",
              "2         Urban          154500.0 -122.258393  37.869236   \n",
              "3         Urban          167600.0  -74.659119  40.349855   \n",
              "4         Urban          148800.0  -73.961288  40.806515   \n",
              "5         Urban          137200.0 -118.437855  34.073903   \n",
              "\n",
              "                    website  ... yearFounded stateCode  \\\n",
              "0        http://web.mit.edu  ...      1861.0        MA   \n",
              "2   http://www.berkeley.edu  ...      1868.0        CA   \n",
              "3  http://www.princeton.edu  ...      1746.0        NJ   \n",
              "4   http://www.columbia.edu  ...      1754.0        NY   \n",
              "5           http://ucla.edu  ...      1919.0        CA   \n",
              "\n",
              "              collegeType                             carnegieClassification  \\\n",
              "0  Private not-for-profit  Doctoral Universities: Very High Research Acti...   \n",
              "2                  Public  Doctoral Universities: Very High Research Acti...   \n",
              "3  Private not-for-profit  Doctoral Universities: Very High Research Acti...   \n",
              "4  Private not-for-profit  Doctoral Universities: Very High Research Acti...   \n",
              "5                  Public  Doctoral Universities: Very High Research Acti...   \n",
              "\n",
              "  studentFacultyRatio  totalStudentPop undergradPop totalGrantAid  \\\n",
              "0                   3            12195         4582    35299332.0   \n",
              "2                  19            45878        33208    64495611.0   \n",
              "3                   4             8532         5516    44871096.0   \n",
              "4                   6            33882         8689    44615007.0   \n",
              "5                  18            46947        33641    61100980.0   \n",
              "\n",
              "  percentOfStudentsFinAid  percentOfStudentsGrant  \n",
              "0                    75.0                    60.0  \n",
              "2                    63.0                    53.0  \n",
              "3                    62.0                    61.0  \n",
              "4                    58.0                    54.0  \n",
              "5                    73.0                    67.0  \n",
              "\n",
              "[5 rows x 25 columns]"
            ]
          },
          "metadata": {},
          "output_type": "display_data"
        }
      ],
      "source": [
        "for setting, setting_df in df.groupby([\"campusSetting\"]):\n",
        "    display(setting_df.head())"
      ]
    },
    {
      "cell_type": "markdown",
      "metadata": {
        "id": "W4E_BV9pxFnr"
      },
      "source": [
        "**TASK 6.1 (2 POINTS)**: Choose an appropriate hypothesis test and display the p-value of applying the that test."
      ]
    },
    {
      "cell_type": "code",
      "execution_count": 76,
      "metadata": {
        "id": "jXkIU-7QxFnr"
      },
      "outputs": [
        {
          "data": {
            "text/plain": [
              "np.float64(5.371995673405588e-09)"
            ]
          },
          "metadata": {},
          "output_type": "display_data"
        }
      ],
      "source": [
        "setting1, setting2, setting3 = [group_df for _, group_df in df.groupby([\"campusSetting\"])]\n",
        "display(scipy.stats.f_oneway(setting1[\"totalStudentPop\"], setting2[\"totalStudentPop\"], setting3[\"totalStudentPop\"]).pvalue)"
      ]
    },
    {
      "cell_type": "markdown",
      "metadata": {
        "id": "l2mibvwoxFnr"
      },
      "source": [
        "**TASK 6.2 \\(2 POINTS)**: Create a graph(s) using `matplotlib` to show the relationship between campus setting and total student population.\n"
      ]
    },
    {
      "cell_type": "code",
      "execution_count": 77,
      "metadata": {
        "id": "OZMWcPe5xFnr"
      },
      "outputs": [
        {
          "data": {
            "text/plain": [
              "<matplotlib.legend.Legend at 0x21e75b2fad0>"
            ]
          },
          "execution_count": 77,
          "metadata": {},
          "output_type": "execute_result"
        },
        {
          "data": {
            "image/png": "[encoded data removed]",
            "text/plain": [
              "<Figure size 640x480 with 1 Axes>"
            ]
          },
          "metadata": {},
          "output_type": "display_data"
        }
      ],
      "source": [
        "plt.plot(setting1[\"totalStudentPop\"], label=\"Rural\")\n",
        "plt.plot(setting2[\"totalStudentPop\"], label=\"Suburban\")\n",
        "plt.plot(setting3[\"totalStudentPop\"], label=\"Urban\")\n",
        "plt.legend()"
      ]
    },
    {
      "cell_type": "markdown",
      "metadata": {
        "id": "g0Um94_oxFnr"
      },
      "source": [
        "**TASK 6.3 (3 POINTS)**: Based on the p-value, determine whether to reject or fail to reject the null hypothesis. Explain your answer."
      ]
    },
    {
      "cell_type": "markdown",
      "metadata": {
        "id": "GX2XXD6nxFnr"
      },
      "source": [
        "> The p-value is far less than 0.05, meaning that the null hypothesis should be rejected."
      ]
    },
    {
      "cell_type": "markdown",
      "metadata": {
        "id": "BhaiFV4ExFns"
      },
      "source": [
        "#*Q7)* (2 POINTS) Post Hoc Tests"
      ]
    },
    {
      "cell_type": "markdown",
      "metadata": {
        "id": "n0-x_HCFxFns"
      },
      "source": [
        "**TASK 7.1 (2 POINTS)**: Why might we need post-hoc tests in this scenario?"
      ]
    },
    {
      "cell_type": "markdown",
      "metadata": {
        "id": "VIwW7JQrxFns"
      },
      "source": [
        "> We can determine which groups have the largest difference between the others."
      ]
    },
    {
      "cell_type": "markdown",
      "metadata": {
        "id": "Sro6I621xFns"
      },
      "source": [
        "**BONUS TASK 7.2 (2 POINTS)**: Apply a post-hoc test of your choice"
      ]
    },
    {
      "cell_type": "code",
      "execution_count": 78,
      "metadata": {
        "id": "8rTml3SFxFns"
      },
      "outputs": [],
      "source": [
        "# Your code here"
      ]
    },
    {
      "cell_type": "markdown",
      "metadata": {
        "id": "nXlCEG3oxFns"
      },
      "source": [
        "\n",
        "> Write your interpretation here"
      ]
    },
    {
      "cell_type": "markdown",
      "metadata": {
        "id": "QOGvXsMMxFns"
      },
      "source": [
        "#*Q8)* (19 POINTS) Hypothesis Test"
      ]
    },
    {
      "cell_type": "markdown",
      "metadata": {
        "id": "XMLrOKZuxFns"
      },
      "source": [
        "Now create a new hypothesis test for whether the total grant aid has an affect on college ranking. (Assume $\\alpha=0.05$)."
      ]
    },
    {
      "cell_type": "markdown",
      "metadata": {
        "id": "MFF_U9AWxFns"
      },
      "source": [
        "**TASK 8.1 (3 POINTS):** Write down the null and alternative hypotheses below."
      ]
    },
    {
      "cell_type": "markdown",
      "metadata": {
        "id": "XUxyOW_ixFns"
      },
      "source": [
        "> The null hypothesis is that the total grant aid has an impact on college ranking. The alternate hypothesis is that total grant aid has an impact on college ranking."
      ]
    },
    {
      "cell_type": "markdown",
      "metadata": {
        "id": "wHWLCbAUxFns"
      },
      "source": [
        "**TASK 8.2 (2 POINTS)**: Create a plot using `matplotlib` that visualizes your hypothesis."
      ]
    },
    {
      "cell_type": "code",
      "execution_count": 79,
      "metadata": {
        "id": "xBmWdOcyxFns"
      },
      "outputs": [
        {
          "data": {
            "text/plain": [
              "Text(0, 0.5, 'Total Grant Aid')"
            ]
          },
          "execution_count": 79,
          "metadata": {},
          "output_type": "execute_result"
        },
        {
          "data": {
            "image/png": "[encoded data removed]",
            "text/plain": [
              "<Figure size 640x480 with 1 Axes>"
            ]
          },
          "metadata": {},
          "output_type": "display_data"
        }
      ],
      "source": [
        "y = [3,2,1]\n",
        "x = [1,2,3]\n",
        "\n",
        "plt.plot(x,y)\n",
        "plt.xlabel(\"College Ranking\")\n",
        "plt.ylabel(\"Total Grant Aid\")"
      ]
    },
    {
      "cell_type": "markdown",
      "metadata": {
        "id": "StNwKUVJxFnt"
      },
      "source": [
        "**TASK 8.3 (3 POINTS):** Apply an appropriate hypothesis test and find the p-value of it. Only for this question, you are allowed to apply a hypothesis test that we haven't covered in the Hypothesis Testing class ( hints: how about we consider finding some “relation” between them)?"
      ]
    },
    {
      "cell_type": "code",
      "execution_count": 80,
      "metadata": {
        "id": "tpdna42ixFnt"
      },
      "outputs": [
        {
          "data": {
            "text/plain": [
              "np.float64(1.6476144412424221e-19)"
            ]
          },
          "metadata": {},
          "output_type": "display_data"
        }
      ],
      "source": [
        "display(scipy.stats.pearsonr(df[\"rank\"], df[\"totalGrantAid\"]).pvalue)"
      ]
    },
    {
      "cell_type": "markdown",
      "metadata": {
        "id": "rFYuzjUWxFnt"
      },
      "source": [
        "**TASK 8.4 (3 POINTS)**: Based on the p-value, determine whether to reject or fail to reject the null hypothesis. Explain your answer."
      ]
    },
    {
      "cell_type": "markdown",
      "metadata": {
        "id": "vG-EBQjrxFnt"
      },
      "source": [
        "> The p value is far smaller than 0.05, meaning the null hypothesis should be rejected."
      ]
    },
    {
      "cell_type": "markdown",
      "metadata": {
        "id": "kyAgGFmExFnt"
      },
      "source": [
        "**TASK 8.5 (3 POINTS)**: Based on your previous answer, can you conclude that increasing grant aid will change a college's ranking? What is experimental procedure required to reach this conclusion?"
      ]
    },
    {
      "cell_type": "markdown",
      "metadata": {
        "id": "6VwlIpPfxFnt"
      },
      "source": [
        "> This cannot be concluded as all we know is that the null hypothesis should be rejected. We can input an alternative hypothesis to the pearson correlation test and see what the p-value comes to be."
      ]
    },
    {
      "cell_type": "markdown",
      "metadata": {
        "id": "oLEPhp1rxFnt"
      },
      "source": [
        "**TASK 8.6 (3 POINTS)**: What kind of t-test (right-tail or left-tail) would you use to verify the following hypothesis?\n",
        "\n",
        "*H0:* There is no difference in student to faculty ratio between private and public colleges\n",
        "\n",
        "*HA:* Private colleges have a smaller student to faculty ratio\n",
        "\n",
        "Also perform the test and print your p value.\n"
      ]
    },
    {
      "cell_type": "markdown",
      "metadata": {
        "id": "OtU-m-y_xFnt"
      },
      "source": [
        "> Left-tail\n"
      ]
    },
    {
      "cell_type": "code",
      "execution_count": 81,
      "metadata": {
        "id": "GeiVGY2DxFnt"
      },
      "outputs": [
        {
          "data": {
            "text/plain": [
              "np.float64(2.6905666569529506e-75)"
            ]
          },
          "metadata": {},
          "output_type": "display_data"
        }
      ],
      "source": [
        "private, public = [group_df for _, group_df in df.groupby([\"collegeType\"])]\n",
        "display(scipy.stats.ttest_ind(private[\"studentFacultyRatio\"], public[\"studentFacultyRatio\"], alternative=\"less\").pvalue)"
      ]
    },
    {
      "cell_type": "markdown",
      "metadata": {
        "id": "E4B_dxvhxFnt"
      },
      "source": [
        "**TASK 8.7 (2 POINTS)**: Based on the p-value, determine whether to reject or fail to reject the null hypothesis. Explain your answer."
      ]
    },
    {
      "cell_type": "markdown",
      "metadata": {
        "id": "M-r9f5MtxFnt"
      },
      "source": [
        "> The p value is clearly less than 0.05, meaning the null hypothesis should be rejected."
      ]
    },
    {
      "cell_type": "markdown",
      "metadata": {
        "id": "9wEskV8cCmED"
      },
      "source": [
        "# THE END!"
      ]
    }
  ],
  "metadata": {
    "colab": {
      "provenance": []
    },
    "kernelspec": {
      "display_name": "Python 3",
      "language": "python",
      "name": "python3"
    },
    "language_info": {
      "codemirror_mode": {
        "name": "ipython",
        "version": 3
      },
      "file_extension": ".py",
      "mimetype": "text/x-python",
      "name": "python",
      "nbconvert_exporter": "python",
      "pygments_lexer": "ipython3",
      "version": "3.12.5"
    }
  },
  "nbformat": 4,
  "nbformat_minor": 0
}
